{
 "cells": [
  {
   "cell_type": "code",
   "execution_count": 2,
   "id": "0d624269",
   "metadata": {},
   "outputs": [
    {
     "name": "stdout",
     "output_type": "stream",
     "text": [
      "Enter the number you want to check: -9\n",
      "-9 is a negative number\n"
     ]
    }
   ],
   "source": [
    "#1.\n",
    "# Ask the user for input and convert it to an integer\n",
    "x = int(input('Enter the number you want to check: '))\n",
    "\n",
    "# Check if the input number is greater than or equal to zero\n",
    "if x >= 0:\n",
    "    # If it's greater than or equal to zero, it's a positive number\n",
    "    print(f'{x} is a positive number')\n",
    "else:\n",
    "    # If it's less than zero, it's a negative number\n",
    "    print(f'{x} is a negative number')"
   ]
  },
  {
   "cell_type": "code",
   "execution_count": 3,
   "id": "767be2c1",
   "metadata": {},
   "outputs": [
    {
     "name": "stdout",
     "output_type": "stream",
     "text": [
      "Enter the age: 17\n",
      "You are not eligible to vote\n"
     ]
    }
   ],
   "source": [
    "#2.\n",
    "\n",
    "# Ask the user for their age and convert it to an integer\n",
    "age = int(input('Enter the age: '))\n",
    "\n",
    "# Check if the age is greater than or equal to 18\n",
    "if age >= 18:\n",
    "    # If the age is 18 or older, the person is an eligible voter\n",
    "    print('You are an eligible voter')\n",
    "else:\n",
    "    # If the age is less than 18, the person is not eligible to vote\n",
    "    print('You are not eligible to vote')"
   ]
  },
  {
   "cell_type": "code",
   "execution_count": 4,
   "id": "401e041d",
   "metadata": {},
   "outputs": [
    {
     "name": "stdout",
     "output_type": "stream",
     "text": [
      "Enter the first number: 89\n",
      "Enter the second number: 56\n",
      "89 is greater than 56\n"
     ]
    }
   ],
   "source": [
    "#3.\n",
    "\n",
    "# Ask the user for the first number and convert it to an integer\n",
    "x1 = int(input('Enter the first number: '))\n",
    "\n",
    "# Ask the user for the second number and convert it to an integer\n",
    "x2 = int(input('Enter the second number: '))\n",
    "\n",
    "# Check if the first number (x1) is greater than the second number (x2)\n",
    "if x1 > x2:\n",
    "    # If x1 is greater, print a message indicating that\n",
    "    print(f'{x1} is greater than {x2}')\n",
    "else:\n",
    "    # If x2 is greater or they are equal, print a message indicating that\n",
    "    print(f'{x2} is greater than {x1}')"
   ]
  },
  {
   "cell_type": "code",
   "execution_count": 6,
   "id": "8adfd573",
   "metadata": {},
   "outputs": [
    {
     "name": "stdout",
     "output_type": "stream",
     "text": [
      "Enter the year: 2000\n",
      "2000 is a leap year\n"
     ]
    }
   ],
   "source": [
    "#4.\n",
    "\n",
    "# Ask the user for a year and convert it to an integer\n",
    "year = int(input('Enter the year: '))\n",
    "\n",
    "# Check if the year is a leap year by applying leap year rules\n",
    "if (year % 4 == 0 and year % 100 != 0) or (year % 400 == 0):\n",
    "    # If it meets the leap year conditions, print a message indicating it's a leap year\n",
    "    print(\"{0} is a leap year\".format(year))\n",
    "else:\n",
    "    # If it doesn't meet the leap year conditions, print a message indicating it's not a leap year\n",
    "    print(\"{0} is not a leap year\".format(year))"
   ]
  },
  {
   "cell_type": "code",
   "execution_count": 9,
   "id": "a70840c0",
   "metadata": {},
   "outputs": [
    {
     "name": "stdout",
     "output_type": "stream",
     "text": [
      "Enter the letter: a\n",
      "a is a vowel\n"
     ]
    }
   ],
   "source": [
    "#5.\n",
    "\n",
    "# Ask the user for a letter and store it in user_input\n",
    "user_input = input('Enter the letter: ')\n",
    "\n",
    "# Define lists of consonants and vowels\n",
    "consonants = ['B', 'C', 'D', 'F', 'G', 'H', 'J', 'K', 'L', 'M', 'N', 'P', 'Q', 'R', 'S', 'T', 'V', 'W', 'X', 'Y', 'Z']\n",
    "vowels = ['A', 'E', 'I', 'O', 'U']\n",
    "\n",
    "# Convert the user input to uppercase for consistent comparison\n",
    "user_input_upper = user_input.upper()\n",
    "\n",
    "# Check if the user input is a vowel\n",
    "if user_input_upper in vowels:\n",
    "    # If it's a vowel, print a message indicating it's a vowel\n",
    "    print(f'{user_input} is a vowel')\n",
    "# Check if the user input is a consonant\n",
    "elif user_input_upper in consonants:\n",
    "    # If it's a consonant, print a message indicating it's a consonant\n",
    "    print(f'{user_input} is a consonant')\n",
    "else:\n",
    "    # If it's neither a vowel nor a consonant, print a message indicating it's not a valid input\n",
    "    print(f'{user_input} is not a valid input!')"
   ]
  },
  {
   "cell_type": "code",
   "execution_count": 1,
   "id": "251b326f",
   "metadata": {},
   "outputs": [
    {
     "name": "stdout",
     "output_type": "stream",
     "text": [
      "Enter a number: 7\n",
      "This is an odd number\n"
     ]
    }
   ],
   "source": [
    "#6.\n",
    "\n",
    "# Ask the user for a number and convert it to an integer\n",
    "num = int(input('Enter a number: '))\n",
    "\n",
    "# Check if the number is even\n",
    "if num % 2 == 0:\n",
    "    # If it's even, print a message indicating it's an even number\n",
    "    print('This is an even number')\n",
    "else:\n",
    "    # If it's not even, print a message indicating it's an odd number\n",
    "    print('This is an odd number')"
   ]
  },
  {
   "cell_type": "code",
   "execution_count": 3,
   "id": "b6bc643d",
   "metadata": {},
   "outputs": [
    {
     "name": "stdout",
     "output_type": "stream",
     "text": [
      "Enter a number: -12\n",
      "The absolute value of -12 is: 12\n"
     ]
    }
   ],
   "source": [
    "#7.\n",
    "\n",
    "# Ask the user for a number and convert it to an integer\n",
    "num = int(input('Enter a number: '))\n",
    "\n",
    "# Check if the number is negative\n",
    "if num < 0:\n",
    "    # If it's negative, calculate and print its absolute value\n",
    "    print('The absolute value of {0} is: {1}'.format(num, -num))\n",
    "else:\n",
    "    # If it's non-negative, print its absolute value as itself\n",
    "    print(f'The absolute value of {num} is: {num}')"
   ]
  },
  {
   "cell_type": "code",
   "execution_count": 11,
   "id": "bab03eda",
   "metadata": {},
   "outputs": [
    {
     "name": "stdout",
     "output_type": "stream",
     "text": [
      "Enter the first number: 8\n",
      "Enter the second number: 6\n",
      "Enter the third number: 1\n",
      "The number 8 is the highest among 8, 6, and 1\n"
     ]
    }
   ],
   "source": [
    "#8.\n",
    "\n",
    "# Ask the user for three numbers and convert them to integers\n",
    "n1 = int(input('Enter the first number: '))\n",
    "n2 = int(input('Enter the second number: '))\n",
    "n3 = int(input('Enter the third number: '))\n",
    "\n",
    "# Compare the three numbers to find the highest among them\n",
    "if n1 > n2 and n1 > n3:\n",
    "    # If n1 is the highest, print a message indicating it\n",
    "    print(f'The number {n1} is the highest among {n1}, {n2}, and {n3}')\n",
    "elif n2 > n1 and n2 > n3:\n",
    "    # If n2 is the highest, print a message indicating it\n",
    "    print(f'The number {n2} is the highest among {n1}, {n2}, and {n3}')\n",
    "else:\n",
    "    # If n3 is the highest (or if there's a tie), print a message indicating it\n",
    "    print(f'The number {n3} is the highest among {n1}, {n2}, and {n3}')"
   ]
  },
  {
   "cell_type": "code",
   "execution_count": 14,
   "id": "3e7bb892",
   "metadata": {},
   "outputs": [
    {
     "name": "stdout",
     "output_type": "stream",
     "text": [
      "Enter the string: level\n",
      "The string is a palindrome\n"
     ]
    }
   ],
   "source": [
    "#9.\n",
    "\n",
    "# Ask the user for a string\n",
    "string = input('Enter the string: ')\n",
    "\n",
    "# Reverse the input string\n",
    "new_string = string[::-1]\n",
    "\n",
    "# Check if the original string is the same as its reverse, indicating a palindrome\n",
    "if string == new_string:\n",
    "    # If they are the same, print a message indicating it's a palindrome\n",
    "    print('The string is a palindrome')\n",
    "else:\n",
    "    # If they are not the same, print a message indicating it's not a palindrome\n",
    "    print('The string is not a palindrome')"
   ]
  },
  {
   "cell_type": "code",
   "execution_count": 3,
   "id": "09341805",
   "metadata": {},
   "outputs": [
    {
     "name": "stdout",
     "output_type": "stream",
     "text": [
      "Enter the score: 58\n",
      "The grade obtained by the student is: F\n"
     ]
    }
   ],
   "source": [
    "#10.\n",
    "\n",
    "# Ask the user for a score and convert it to an integer\n",
    "score = int(input('Enter the score: '))\n",
    "\n",
    "# Determine the grade based on the score using if-elif-else statements\n",
    "if score >= 90 and score < 100:\n",
    "    grade = 'A'\n",
    "elif score >= 80 and score < 90:\n",
    "    grade = 'B'\n",
    "elif score >= 70 and score < 80:\n",
    "    grade = 'C'\n",
    "elif score >= 60 and score < 70:\n",
    "    grade = 'D'\n",
    "else:\n",
    "    grade = 'F'\n",
    "\n",
    "# Print the grade obtained by the student\n",
    "print(f'The grade obtained by the student is: {grade}')"
   ]
  },
  {
   "cell_type": "code",
   "execution_count": 6,
   "id": "905711fe",
   "metadata": {},
   "outputs": [
    {
     "name": "stdout",
     "output_type": "stream",
     "text": [
      "Enter the first number: 54\n",
      "Enter the second number: 15\n",
      "Enter the third number: 98\n",
      "The largest number among 54, 15, and 98 is 98\n"
     ]
    }
   ],
   "source": [
    "#11.\n",
    "\n",
    "# Ask the user for three numbers and convert them to integers\n",
    "n1 = int(input('Enter the first number: '))\n",
    "n2 = int(input('Enter the second number: '))\n",
    "n3 = int(input('Enter the third number: '))\n",
    "\n",
    "# Compare the three numbers to find the largest among them using nested if statements\n",
    "if n1 > n2:\n",
    "    if n1 > n3:\n",
    "        largest = n1\n",
    "    else:\n",
    "        largest = n3\n",
    "else:\n",
    "    if n2 > n3:\n",
    "        largest = n2\n",
    "    else:\n",
    "        largest = n3\n",
    "\n",
    "# Print the largest number among the three\n",
    "print(f'The largest number among {n1}, {n2}, and {n3} is {largest}')"
   ]
  },
  {
   "cell_type": "code",
   "execution_count": 7,
   "id": "040c4eda",
   "metadata": {},
   "outputs": [
    {
     "name": "stdout",
     "output_type": "stream",
     "text": [
      "Enter the length of the first side: 12\n",
      "Enter the length of the second side: 12\n",
      "Enter the length of the third side: 6\n",
      "The triangle with side lengths 12, 12, and 6 is a isosceles triangle.\n"
     ]
    }
   ],
   "source": [
    "#12.\n",
    "\n",
    "#Ask the user to input the three sides of triangle and convert them to integers\n",
    "side1 = int(input(\"Enter the length of the first side: \"))\n",
    "side2 = int(input(\"Enter the length of the second side: \"))\n",
    "side3 = int(input(\"Enter the length of the third side: \"))\n",
    "\n",
    "# Check if the triangle is valid\n",
    "if side1 + side2 > side3 and side1 + side3 > side2 and side2 + side3 > side1:\n",
    "    # Determine the type of triangle\n",
    "    if side1 == side2 == side3:\n",
    "        triangle_type = \"equilateral\"\n",
    "    elif side1 == side2 or side1 == side3 or side2 == side3:\n",
    "        triangle_type = \"isosceles\"\n",
    "    else:\n",
    "        triangle_type = \"scalene\"\n",
    "\n",
    "    # Output the result\n",
    "    print(f\"The triangle with side lengths {side1}, {side2}, and {side3} is a {triangle_type} triangle.\")\n",
    "else:\n",
    "    print(\"The given side lengths do not form a valid triangle.\")"
   ]
  },
  {
   "cell_type": "code",
   "execution_count": 14,
   "id": "07ee3832",
   "metadata": {},
   "outputs": [
    {
     "name": "stdout",
     "output_type": "stream",
     "text": [
      "Enter a year: 2020\n",
      "2020 is a leap year and not a century year.\n"
     ]
    }
   ],
   "source": [
    "#13.\n",
    "\n",
    "# Input year from the user\n",
    "year = int(input(\"Enter a year: \"))\n",
    "\n",
    "# Check if it's a leap year\n",
    "if year % 4 == 0:\n",
    "    if year % 100 == 0:\n",
    "        if year % 400 == 0:\n",
    "            print(f\"{year} is a leap year and a century year.\")\n",
    "        else:\n",
    "            print(f\"{year} is not a leap year and a century year.\")\n",
    "    else:\n",
    "        print(f\"{year} is a leap year and not a century year.\")\n",
    "else:\n",
    "    print(f\"{year} is neither a leap year nor a century year.\")"
   ]
  },
  {
   "cell_type": "code",
   "execution_count": 15,
   "id": "808a5ca0",
   "metadata": {},
   "outputs": [
    {
     "name": "stdout",
     "output_type": "stream",
     "text": [
      "Enter a number: 0\n",
      "The number is zero.\n"
     ]
    }
   ],
   "source": [
    "#14.\n",
    "\n",
    "# Input a number from the user\n",
    "number = float(input(\"Enter a number: \"))\n",
    "\n",
    "# Check if the number is positive, negative, or zero using nested if-else\n",
    "if number > 0:\n",
    "    print(\"The number is positive.\")\n",
    "else:\n",
    "    if number < 0:\n",
    "        print(\"The number is negative.\")\n",
    "    else:\n",
    "        print(\"The number is zero.\")"
   ]
  },
  {
   "cell_type": "code",
   "execution_count": 16,
   "id": "fd179f0e",
   "metadata": {},
   "outputs": [
    {
     "name": "stdout",
     "output_type": "stream",
     "text": [
      "Enter the age: 14\n",
      "The person is a teenager.\n"
     ]
    }
   ],
   "source": [
    "#15.\n",
    "\n",
    "# Input the age of the person\n",
    "age = int(input(\"Enter the age: \"))\n",
    "\n",
    "# Check if the person is a teenager using nested if-else\n",
    "if age >= 13:\n",
    "    if age <= 19:\n",
    "        print(\"The person is a teenager.\")\n",
    "    else:\n",
    "        print(\"The person is not a teenager.\")\n",
    "else:\n",
    "    print(\"The person is not a teenager.\")\n",
    "    "
   ]
  },
  {
   "cell_type": "code",
   "execution_count": 17,
   "id": "e4dd20c4",
   "metadata": {},
   "outputs": [
    {
     "name": "stdout",
     "output_type": "stream",
     "text": [
      "Enter the angle measure in degrees: 85\n",
      "The angle is acute.\n"
     ]
    }
   ],
   "source": [
    "#16.\n",
    "\n",
    "# Input the angle measure from the user\n",
    "angle = float(input(\"Enter the angle measure in degrees: \"))\n",
    "\n",
    "# Check the type of angle using nested if-else\n",
    "if angle > 0:\n",
    "    if angle < 90:\n",
    "        print(\"The angle is acute.\")\n",
    "    elif angle == 90:\n",
    "        print(\"The angle is right.\")\n",
    "    else:\n",
    "        print(\"The angle is obtuse.\")\n",
    "else:\n",
    "    print(\"Invalid angle measure. Please enter a positive value.\")"
   ]
  },
  {
   "cell_type": "code",
   "execution_count": 2,
   "id": "77f115e1",
   "metadata": {},
   "outputs": [
    {
     "name": "stdout",
     "output_type": "stream",
     "text": [
      "Enter the coefficient a: 12\n",
      "Enter the coefficient b: 4\n",
      "Enter the coefficient c: 3\n",
      "The roots are complex: -0.16666666666666666 + 0.47140452079103173i and -0.16666666666666666 - 0.47140452079103173i\n"
     ]
    }
   ],
   "source": [
    "#17.\n",
    "\n",
    "# Ask the user for the coefficients of the quadratic equation\n",
    "a = float(input('Enter the coefficient a: '))\n",
    "b = float(input('Enter the coefficient b: '))\n",
    "c = float(input('Enter the coefficient c: '))\n",
    "\n",
    "# Calculate the discriminant (the value inside the square root)\n",
    "discriminant = b**2 - 4*a*c\n",
    "\n",
    "# Check if the discriminant is positive, negative, or zero to determine the type of roots\n",
    "if discriminant > 0:\n",
    "    # If the discriminant is positive, there are two real and distinct roots\n",
    "    root1 = (-b + (discriminant**0.5)) / (2*a)\n",
    "    root2 = (-b - (discriminant**0.5)) / (2*a)\n",
    "    print(f'The roots are real and distinct: {root1} and {root2}')\n",
    "elif discriminant == 0:\n",
    "    # If the discriminant is zero, there is one real root (a repeated root)\n",
    "    root = -b / (2*a)\n",
    "    print(f'The root is real and repeated: {root}')\n",
    "else:\n",
    "    # If the discriminant is negative, there are two complex roots\n",
    "    real_part = -b / (2*a)\n",
    "    imaginary_part = (abs(discriminant)**0.5) / (2*a)\n",
    "    print(f'The roots are complex: {real_part} + {imaginary_part}i and {real_part} - {imaginary_part}i')"
   ]
  },
  {
   "cell_type": "code",
   "execution_count": 7,
   "id": "a0c875a3",
   "metadata": {},
   "outputs": [
    {
     "name": "stdout",
     "output_type": "stream",
     "text": [
      "Enter the number: 5\n",
      "The day of the week corresponding to 5 is Friday.\n"
     ]
    }
   ],
   "source": [
    "#18.\n",
    "\n",
    "# Ask the user for a number representing the day of the week\n",
    "day = int(input('Enter the number: '))\n",
    "\n",
    "# Create a list of day names corresponding to the numbers (1 to 7)\n",
    "days = ['Monday', 'Tuesday', 'Wednesday', 'Thursday', 'Friday', 'Saturday', 'Sunday']\n",
    "\n",
    "# Check if the input day falls within the valid range (1 to 7)\n",
    "if day >= 1 and day <= 7:\n",
    "    # Since the list is zero-indexed, subtract 1 from the input to get the correct index\n",
    "    day_name = days[day - 1]\n",
    "else:\n",
    "    # Handle the case where the input is not a valid day number\n",
    "    day_name = \"Invalid\"\n",
    "\n",
    "# Print the corresponding day of the week or an error message for invalid input\n",
    "if day_name != \"Invalid\":\n",
    "    print(f'The day of the week corresponding to {day} is {day_name}.')\n",
    "else:\n",
    "    print('Invalid input. Please enter a number between 1 and 7.')"
   ]
  },
  {
   "cell_type": "code",
   "execution_count": 2,
   "id": "5485e0fa",
   "metadata": {},
   "outputs": [
    {
     "name": "stdout",
     "output_type": "stream",
     "text": [
      "Enter a year: 2020\n",
      "2020 is a leap year.\n"
     ]
    }
   ],
   "source": [
    "#19.\n",
    "\n",
    "# Ask the user to input year\n",
    "year = int(input(\"Enter a year: \"))\n",
    "\n",
    "# Check if it's a leap year\n",
    "if (year % 4 == 0 and year % 100 != 0) or (year % 400 == 0):\n",
    "    print(f\"{year} is a leap year.\")\n",
    "else:\n",
    "    print(f\"{year} is not a leap year.\")"
   ]
  },
  {
   "cell_type": "code",
   "execution_count": 3,
   "id": "a3e9aa8c",
   "metadata": {},
   "outputs": [
    {
     "name": "stdout",
     "output_type": "stream",
     "text": [
      "Enter a number: 61\n",
      "61 is a prime number.\n"
     ]
    }
   ],
   "source": [
    "#20.\n",
    "\n",
    "# Ask the user to input a number\n",
    "num = int(input(\"Enter a number: \"))\n",
    "\n",
    "# Check if the number is greater than 1\n",
    "if num > 1:\n",
    "    is_prime = True\n",
    "\n",
    "    # Check for factors from 2 to the square root of the number\n",
    "    for i in range(2, int(num**0.5) + 1):\n",
    "        if num % i == 0:\n",
    "            is_prime = False\n",
    "            break\n",
    "\n",
    "    # Print the result\n",
    "    if is_prime:\n",
    "        print(f\"{num} is a prime number.\")\n",
    "    else:\n",
    "        print(f\"{num} is not a prime number.\")\n",
    "else:\n",
    "    print(f\"{num} is not a prime number.\")"
   ]
  },
  {
   "cell_type": "code",
   "execution_count": 4,
   "id": "1d563ccb",
   "metadata": {},
   "outputs": [
    {
     "name": "stdout",
     "output_type": "stream",
     "text": [
      "Enter the mark to check your grade: 69\n",
      "The grade obtained by you is: D\n"
     ]
    }
   ],
   "source": [
    "#21.\n",
    "\n",
    "# Ask the user for a score and convert it to an integer\n",
    "score = int(input('Enter the mark to check your grade: '))\n",
    "\n",
    "# Determine the grade based on the score using if-elif-else statements\n",
    "if score >= 90 and score < 100:\n",
    "    grade = 'A'\n",
    "elif score >= 80 and score < 90:\n",
    "    grade = 'B'\n",
    "elif score >= 70 and score < 80:\n",
    "    grade = 'C'\n",
    "elif score >= 60 and score < 70:\n",
    "    grade = 'D'\n",
    "else:\n",
    "    grade = 'F'\n",
    "\n",
    "# Print the grade obtained by the student\n",
    "print(f'The grade obtained by you is: {grade}')"
   ]
  },
  {
   "cell_type": "code",
   "execution_count": 5,
   "id": "83db069b",
   "metadata": {},
   "outputs": [
    {
     "name": "stdout",
     "output_type": "stream",
     "text": [
      "Enter the first angle (in degrees): 30\n",
      "Enter the second angle (in degrees): 90\n",
      "Enter the third angle (in degrees): 60\n",
      "The triangle is a Right triangle.\n"
     ]
    }
   ],
   "source": [
    "#22.\n",
    "\n",
    "# Input angles of the triangle\n",
    "angle1 = float(input(\"Enter the first angle (in degrees): \"))\n",
    "angle2 = float(input(\"Enter the second angle (in degrees): \"))\n",
    "angle3 = float(input(\"Enter the third angle (in degrees): \"))\n",
    "\n",
    "# Check if the angles form a valid triangle\n",
    "if angle1 + angle2 + angle3 == 180:\n",
    "    # Check the type of triangle based on its angles\n",
    "    if angle1 == 90 or angle2 == 90 or angle3 == 90:\n",
    "        triangle_type = \"Right triangle\"\n",
    "    elif angle1 < 90 and angle2 < 90 and angle3 < 90:\n",
    "        triangle_type = \"Acute triangle\"\n",
    "    else:\n",
    "        triangle_type = \"Obtuse triangle\"\n",
    "\n",
    "    # Print the result\n",
    "    print(f\"The triangle is a {triangle_type}.\")\n",
    "else:\n",
    "    print(\"These angles do not form a valid triangle.\")"
   ]
  },
  {
   "cell_type": "code",
   "execution_count": 7,
   "id": "f2d09397",
   "metadata": {},
   "outputs": [
    {
     "name": "stdout",
     "output_type": "stream",
     "text": [
      "Enter the weight (in kilograms): 50\n",
      "Enter the height (in meters): 1.68\n",
      "Your BMI score is 17.72, and you are categorized as Underweight\n"
     ]
    }
   ],
   "source": [
    "#23.\n",
    "\n",
    "# Input weight (in kilograms) and height (in meters) from the user\n",
    "weight = float(input('Enter the weight (in kilograms): '))\n",
    "height = float(input('Enter the height (in meters): '))\n",
    "\n",
    "# Calculate BMI using the formula: weight / (height^2)\n",
    "bmi = weight / (height ** 2)\n",
    "\n",
    "# Determine the BMI category using conditional statements\n",
    "if bmi < 18.5:\n",
    "    category = \"Underweight\"\n",
    "elif 18.5 <= bmi < 24.9:\n",
    "    category = \"Normal\"\n",
    "elif 25 <= bmi < 29.9:\n",
    "    category = \"Overweight\"\n",
    "else:\n",
    "    category = \"Obese\"\n",
    "\n",
    "# Display the BMI score and category to the user with proper formatting\n",
    "print('Your BMI score is {:.2f}, and you are categorized as {}'.format(bmi, category))"
   ]
  },
  {
   "cell_type": "code",
   "execution_count": 8,
   "id": "da3abc23",
   "metadata": {},
   "outputs": [
    {
     "name": "stdout",
     "output_type": "stream",
     "text": [
      "Enter a number: -58\n",
      "The number is negative.\n"
     ]
    }
   ],
   "source": [
    "#24.\n",
    "\n",
    "# Input a number from the user\n",
    "number = float(input(\"Enter a number: \"))\n",
    "\n",
    "# Check if the number is positive, negative, or zero using elif statements\n",
    "if number > 0:\n",
    "    print(\"The number is positive.\")\n",
    "elif number < 0:\n",
    "    print(\"The number is negative.\")\n",
    "else:\n",
    "    print(\"The number is zero.\")"
   ]
  },
  {
   "cell_type": "code",
   "execution_count": 10,
   "id": "568966d1",
   "metadata": {},
   "outputs": [
    {
     "name": "stdout",
     "output_type": "stream",
     "text": [
      "Enter a character: pwskills\n",
      "The character is lowercase.\n"
     ]
    }
   ],
   "source": [
    "#25.\n",
    "\n",
    "# Input a character from the user\n",
    "char = input(\"Enter a character: \")\n",
    "\n",
    "# Check the type of character using elif statements\n",
    "if char.isalpha():\n",
    "    if char.islower():\n",
    "        print(\"The character is lowercase.\")\n",
    "    else:\n",
    "        print(\"The character is uppercase.\")\n",
    "elif char.isdigit():\n",
    "    print(\"The character is a digit.\")\n",
    "else:\n",
    "    print(\"The character is a special character or whitespace.\")"
   ]
  },
  {
   "cell_type": "code",
   "execution_count": 14,
   "id": "85b81322",
   "metadata": {},
   "outputs": [
    {
     "name": "stdout",
     "output_type": "stream",
     "text": [
      "Enter the purchase amount: ₹ 5701\n",
      "The amount you will have to pay after the discount is: ₹4845.85\n"
     ]
    }
   ],
   "source": [
    "#26.\n",
    "\n",
    "# Input the purchase amount in INR (₹)\n",
    "purchase_amount = float(input(\"Enter the purchase amount: ₹ \"))\n",
    "\n",
    "# Define discount rates for different purchase amount ranges\n",
    "discount1 = 0.05  # 5% discount\n",
    "discount2 = 0.10  # 10% discount\n",
    "discount3 = 0.15  # 15% discount\n",
    "discount4 = 0.20  # 20% discount\n",
    "discount5 = 0.30  # 30% discount\n",
    "\n",
    "# Initialize a variable to hold the discounted price\n",
    "disc_price = 0.0\n",
    "\n",
    "# Determine the discount based on the purchase amount using elif statements\n",
    "if purchase_amount < 1000:\n",
    "    disc_price = purchase_amount\n",
    "elif 1000 <= purchase_amount < 3000:\n",
    "    disc_price = purchase_amount - (purchase_amount * discount1)\n",
    "elif 3000 <= purchase_amount < 5000:\n",
    "    disc_price = purchase_amount - (purchase_amount * discount2)\n",
    "elif 5000 <= purchase_amount < 7000:\n",
    "    disc_price = purchase_amount - (purchase_amount * discount3)\n",
    "elif 7000 <= purchase_amount < 10000:\n",
    "    disc_price = purchase_amount - (purchase_amount * discount4)\n",
    "else:\n",
    "    disc_price = purchase_amount - (purchase_amount * discount5)\n",
    "\n",
    "# Display the discounted price to the user\n",
    "print(f'The amount you will have to pay after the discount is: ₹{disc_price:.2f}')"
   ]
  },
  {
   "cell_type": "code",
   "execution_count": 15,
   "id": "07bc103d",
   "metadata": {},
   "outputs": [
    {
     "name": "stdout",
     "output_type": "stream",
     "text": [
      "Enter your electricity consumption (in kWh): 45\n",
      "Your electricity bill is ₹135.00\n"
     ]
    }
   ],
   "source": [
    "#27.\n",
    "\n",
    "# Input the electricity consumption in kilowatt-hours (kWh) from the user\n",
    "consumption = float(input(\"Enter your electricity consumption (in kWh): \"))\n",
    "\n",
    "# Define electricity rate slabs and corresponding rates in rupees per unit\n",
    "slab1_limit = 50\n",
    "slab1_rate = 3.00\n",
    "\n",
    "slab2_limit = 100\n",
    "slab2_rate = 4.50\n",
    "\n",
    "slab3_limit = 200\n",
    "slab3_rate = 6.00\n",
    "\n",
    "# Initialize the bill amount variable\n",
    "bill_amount = 0.0\n",
    "\n",
    "# Calculate the electricity bill based on different slabs using elif statements\n",
    "if consumption <= slab1_limit:\n",
    "    bill_amount = consumption * slab1_rate\n",
    "elif consumption <= slab2_limit:\n",
    "    bill_amount = (slab1_limit * slab1_rate) + ((consumption - slab1_limit) * slab2_rate)\n",
    "elif consumption <= slab3_limit:\n",
    "    bill_amount = (slab1_limit * slab1_rate) + ((slab2_limit - slab1_limit) * slab2_rate) + ((consumption - slab2_limit) * slab3_rate)\n",
    "else:\n",
    "    # For consumption above all slabs, consider slab3_limit\n",
    "    bill_amount = (slab1_limit * slab1_rate) + ((slab2_limit - slab1_limit) * slab2_rate) + ((slab3_limit - slab2_limit) * slab3_rate) + ((consumption - slab3_limit) * slab3_rate)\n",
    "\n",
    "# Display the electricity bill amount to the user in rupees\n",
    "print(f'Your electricity bill is ₹{bill_amount:.2f}')"
   ]
  },
  {
   "cell_type": "code",
   "execution_count": 17,
   "id": "1a1c7451",
   "metadata": {},
   "outputs": [
    {
     "name": "stdout",
     "output_type": "stream",
     "text": [
      "Enter the first angle (in degrees): 90\n",
      "Enter the second angle (in degrees): 90\n",
      "Enter the third angle (in degrees): 90\n",
      "Enter the fourth angle (in degrees): 090\n",
      "Enter the length of the first side: 12\n",
      "Enter the length of the second side: 12\n",
      "Enter the length of the third side: 12\n",
      "Enter the length of the fourth side: 12\n",
      "The quadrilateral is a square.\n"
     ]
    }
   ],
   "source": [
    "#28.\n",
    "\n",
    "# Input angles and sides of the quadrilateral\n",
    "angle1 = float(input(\"Enter the first angle (in degrees): \"))\n",
    "angle2 = float(input(\"Enter the second angle (in degrees): \"))\n",
    "angle3 = float(input(\"Enter the third angle (in degrees): \"))\n",
    "angle4 = float(input(\"Enter the fourth angle (in degrees): \"))\n",
    "\n",
    "side1 = float(input(\"Enter the length of the first side: \"))\n",
    "side2 = float(input(\"Enter the length of the second side: \"))\n",
    "side3 = float(input(\"Enter the length of the third side: \"))\n",
    "side4 = float(input(\"Enter the length of the fourth side: \"))\n",
    "\n",
    "# Check for common types of quadrilaterals using elif statements\n",
    "if angle1 == angle2 == angle3 == angle4 == 90:\n",
    "    if side1 == side2 == side3 == side4:\n",
    "        print(\"The quadrilateral is a square.\")\n",
    "    else:\n",
    "        print(\"The quadrilateral is a rectangle.\")\n",
    "elif angle1 == angle3 and angle2 == angle4:\n",
    "    if side1 == side3 and side2 == side4:\n",
    "        print(\"The quadrilateral is a kite.\")\n",
    "    else:\n",
    "        print(\"The quadrilateral is a parallelogram.\")\n",
    "else:\n",
    "    print(\"The quadrilateral does not fit into any common category.\")"
   ]
  },
  {
   "cell_type": "code",
   "execution_count": 18,
   "id": "cb492012",
   "metadata": {},
   "outputs": [
    {
     "name": "stdout",
     "output_type": "stream",
     "text": [
      "Enter a month (e.g., January, February, etc.): september\n",
      "The season in September is Autumn (Fall).\n"
     ]
    }
   ],
   "source": [
    "#29.\n",
    "# Input the month from the user\n",
    "month = input(\"Enter a month (e.g., January, February, etc.): \")\n",
    "\n",
    "# Convert the input to lowercase for case-insensitive comparison\n",
    "month = month.lower()\n",
    "\n",
    "# Determine the season based on the month using elif statements\n",
    "if month in (\"december\", \"january\", \"february\"):\n",
    "    season = \"Winter\"\n",
    "elif month in (\"march\", \"april\", \"may\"):\n",
    "    season = \"Spring\"\n",
    "elif month in (\"june\", \"july\", \"august\"):\n",
    "    season = \"Summer\"\n",
    "elif month in (\"september\", \"october\", \"november\"):\n",
    "    season = \"Autumn (Fall)\"\n",
    "else:\n",
    "    season = \"Invalid Month\"\n",
    "\n",
    "# Display the determined season to the user\n",
    "print(f\"The season in {month.title()} is {season}.\")"
   ]
  },
  {
   "cell_type": "code",
   "execution_count": 19,
   "id": "863062c9",
   "metadata": {},
   "outputs": [
    {
     "name": "stdout",
     "output_type": "stream",
     "text": [
      "Enter a year: 2020\n",
      "Enter a month (1-12): 2\n",
      "The year 2020 is a Leap year.\n",
      "The month 2 has 29 days.\n"
     ]
    }
   ],
   "source": [
    "#30.\n",
    "# Input a year from the user\n",
    "year = int(input(\"Enter a year: \"))\n",
    "\n",
    "# Check if it's a leap year using if-elif-else statements\n",
    "if (year % 4 == 0 and year % 100 != 0) or (year % 400 == 0):\n",
    "    year_type = \"Leap\"\n",
    "else:\n",
    "    year_type = \"Common\"\n",
    "\n",
    "# Input a month from the user\n",
    "month = int(input(\"Enter a month (1-12): \"))\n",
    "\n",
    "# Check the number of days in the month using elif statements\n",
    "if month == 2:\n",
    "    if year_type == \"Leap\":\n",
    "        days_in_month = 29\n",
    "    else:\n",
    "        days_in_month = 28\n",
    "elif month in (4, 6, 9, 11):\n",
    "    days_in_month = 30\n",
    "else:\n",
    "    days_in_month = 31\n",
    "\n",
    "# Display the year type and the number of days in the month\n",
    "print(f\"The year {year} is a {year_type} year.\")\n",
    "print(f\"The month {month} has {days_in_month} days.\")"
   ]
  },
  {
   "cell_type": "code",
   "execution_count": null,
   "id": "2d505f0b",
   "metadata": {},
   "outputs": [],
   "source": []
  },
  {
   "cell_type": "code",
   "execution_count": 1,
   "id": "e191254d",
   "metadata": {},
   "outputs": [
    {
     "name": "stdout",
     "output_type": "stream",
     "text": [
      "Enter a number: 0\n",
      "The number is zero.\n"
     ]
    }
   ],
   "source": [
    "#1.\n",
    "\n",
    "# Input a number from the user\n",
    "number = int(input(\"Enter a number: \"))\n",
    "\n",
    "# Check if the number is positive, negative, or zero using elif statements\n",
    "if number > 0:\n",
    "    print(\"The number is positive.\")\n",
    "elif number < 0:\n",
    "    print(\"The number is negative.\")\n",
    "else:\n",
    "    print(\"The number is zero.\")\n"
   ]
  },
  {
   "cell_type": "code",
   "execution_count": 2,
   "id": "c81aa169",
   "metadata": {},
   "outputs": [
    {
     "name": "stdout",
     "output_type": "stream",
     "text": [
      "Enter the age: 63\n",
      "You are an eligible voter\n"
     ]
    }
   ],
   "source": [
    "#2.\n",
    "\n",
    "# Ask the user for their age and convert it to an integer\n",
    "age = int(input('Enter the age: '))\n",
    "\n",
    "# Check if the age is greater than or equal to 18\n",
    "if age >= 18:\n",
    "    # If the age is 18 or older, the person is an eligible voter\n",
    "    print('You are an eligible voter')\n",
    "else:\n",
    "    # If the age is less than 18, the person is not eligible to vote\n",
    "    print('You are not eligible to vote')"
   ]
  },
  {
   "cell_type": "code",
   "execution_count": 3,
   "id": "dedc753e",
   "metadata": {},
   "outputs": [
    {
     "name": "stdout",
     "output_type": "stream",
     "text": [
      "Enter the first number: 65\n",
      "Enter the second number: 12\n",
      "65 is greater than 12\n"
     ]
    }
   ],
   "source": [
    "#3.\n",
    "\n",
    "# Ask the user for the first number and convert it to an integer\n",
    "n1 = int(input('Enter the first number: '))\n",
    "\n",
    "# Ask the user for the second number and convert it to an integer\n",
    "n2 = int(input('Enter the second number: '))\n",
    "\n",
    "# Check if the first number (n1) is greater than the second number (n2)\n",
    "if n1 > n2:\n",
    "    # If n1 is greater, print a message indicating that\n",
    "    print(f'{n1} is greater than {n2}')\n",
    "else:\n",
    "    # If n2 is greater or they are equal, print a message indicating that\n",
    "    print(f'{n2} is greater than {n1}')"
   ]
  },
  {
   "cell_type": "code",
   "execution_count": 4,
   "id": "c2ef1bb6",
   "metadata": {},
   "outputs": [
    {
     "name": "stdout",
     "output_type": "stream",
     "text": [
      "Enter the score: 84\n",
      "The grade obtained by you is: B\n"
     ]
    }
   ],
   "source": [
    "#4.\n",
    "\n",
    "# Ask the user to enter the score and convert it to an integer\n",
    "score = int(input('Enter the score: '))\n",
    "\n",
    "# Determine the grade based on the score using if-elif-else statements\n",
    "if score >= 90 and score < 100:\n",
    "    grade = 'A'\n",
    "elif score >= 80 and score < 90:\n",
    "    grade = 'B'\n",
    "elif score >= 70 and score < 80:\n",
    "    grade = 'C'\n",
    "elif score >= 60 and score < 70:\n",
    "    grade = 'D'\n",
    "else:\n",
    "    grade = 'F'\n",
    "\n",
    "# Print the grade obtained by the student\n",
    "print(f'The grade obtained by you is: {grade}')"
   ]
  },
  {
   "cell_type": "code",
   "execution_count": 5,
   "id": "e2c70a85",
   "metadata": {},
   "outputs": [
    {
     "name": "stdout",
     "output_type": "stream",
     "text": [
      "Enter a year: 2005\n",
      "2005 is not a leap year.\n"
     ]
    }
   ],
   "source": [
    "#5.\n",
    "\n",
    "# Ask the user to input year\n",
    "year = int(input(\"Enter a year: \"))\n",
    "\n",
    "# Check if it's a leap year\n",
    "if (year % 4 == 0 and year % 100 != 0) or (year % 400 == 0):\n",
    "    print(f\"{year} is a leap year.\")\n",
    "else:\n",
    "    print(f\"{year} is not a leap year.\")"
   ]
  },
  {
   "cell_type": "code",
   "execution_count": 6,
   "id": "bef5aac5",
   "metadata": {},
   "outputs": [
    {
     "name": "stdout",
     "output_type": "stream",
     "text": [
      "Enter the length of the first side: 12\n",
      "Enter the length of the second side: 15\n",
      "Enter the length of the third side: 18\n",
      "The triangle with side lengths 12, 15, and 18 is a scalene triangle.\n"
     ]
    }
   ],
   "source": [
    "#6.\n",
    "\n",
    "#Ask the user to input the three sides of triangle and convert them to integers\n",
    "side1 = int(input(\"Enter the length of the first side: \"))\n",
    "side2 = int(input(\"Enter the length of the second side: \"))\n",
    "side3 = int(input(\"Enter the length of the third side: \"))\n",
    "\n",
    "# Check if the triangle is valid\n",
    "if side1 + side2 > side3 and side1 + side3 > side2 and side2 + side3 > side1:\n",
    "    # Determine the type of triangle\n",
    "    if side1 == side2 == side3:\n",
    "        triangle_type = \"equilateral\"\n",
    "    elif side1 == side2 or side1 == side3 or side2 == side3:\n",
    "        triangle_type = \"isosceles\"\n",
    "    else:\n",
    "        triangle_type = \"scalene\"\n",
    "\n",
    "    # Output the result\n",
    "    print(f\"The triangle with side lengths {side1}, {side2}, and {side3} is a {triangle_type} triangle.\")\n",
    "else:\n",
    "    print(\"The given side lengths do not form a valid triangle.\")\n",
    "    "
   ]
  },
  {
   "cell_type": "code",
   "execution_count": 7,
   "id": "ef95037b",
   "metadata": {},
   "outputs": [
    {
     "name": "stdout",
     "output_type": "stream",
     "text": [
      "Enter the first number: 86\n",
      "Enter the second number: 145\n",
      "Enter the third number: 851\n",
      "The number 851 is the highest among 86, 145, and 851\n"
     ]
    }
   ],
   "source": [
    "#7.\n",
    "\n",
    "# Ask the user for three numbers and convert them to integers\n",
    "n1 = int(input('Enter the first number: '))\n",
    "n2 = int(input('Enter the second number: '))\n",
    "n3 = int(input('Enter the third number: '))\n",
    "\n",
    "# Compare the three numbers to find the highest among them\n",
    "if n1 > n2 and n1 > n3:\n",
    "    # If n1 is the highest, print a message indicating it\n",
    "    print(f'The number {n1} is the highest among {n1}, {n2}, and {n3}')\n",
    "elif n2 > n1 and n2 > n3:\n",
    "    # If n2 is the highest, print a message indicating it\n",
    "    print(f'The number {n2} is the highest among {n1}, {n2}, and {n3}')\n",
    "else:\n",
    "    # If n3 is the highest (or if there's a tie), print a message indicating it\n",
    "    print(f'The number {n3} is the highest among {n1}, {n2}, and {n3}')"
   ]
  },
  {
   "cell_type": "code",
   "execution_count": 8,
   "id": "ef921eb6",
   "metadata": {},
   "outputs": [
    {
     "name": "stdout",
     "output_type": "stream",
     "text": [
      "Enter the letter: j\n",
      "j is a consonant\n"
     ]
    }
   ],
   "source": [
    "#8.\n",
    "\n",
    "# Ask the user for a letter and store it in user_input\n",
    "user_input = input('Enter the letter: ')\n",
    "\n",
    "# Define lists of consonants and vowels\n",
    "consonants = ['B', 'C', 'D', 'F', 'G', 'H', 'J', 'K', 'L', 'M', 'N', 'P', 'Q', 'R', 'S', 'T', 'V', 'W', 'X', 'Y', 'Z']\n",
    "vowels = ['A', 'E', 'I', 'O', 'U']\n",
    "\n",
    "# Convert the user input to uppercase for consistent comparison\n",
    "user_input_upper = user_input.upper()\n",
    "\n",
    "# Check if the user input is a vowel\n",
    "if user_input_upper in vowels:\n",
    "    # If it's a vowel, print a message indicating it's a vowel\n",
    "    print(f'{user_input} is a vowel')\n",
    "# Check if the user input is a consonant\n",
    "elif user_input_upper in consonants:\n",
    "    # If it's a consonant, print a message indicating it's a consonant\n",
    "    print(f'{user_input} is a consonant')\n",
    "else:\n",
    "    # If it's neither a vowel nor a consonant, print a message indicating it's not a valid input\n",
    "    print(f'{user_input} is not a valid input!')"
   ]
  },
  {
   "cell_type": "code",
   "execution_count": 10,
   "id": "b020139c",
   "metadata": {},
   "outputs": [
    {
     "name": "stdout",
     "output_type": "stream",
     "text": [
      "Total cost of the shopping cart: $55.00\n"
     ]
    }
   ],
   "source": [
    "#9.\n",
    "\n",
    "# Define a dictionary of items with their prices and discounts\n",
    "items = {\n",
    "    \"item1\": {\"price\": 10, \"discount\": 0.1},  # 10% discount\n",
    "    \"item2\": {\"price\": 20, \"discount\": 0.2},  # 20% discount\n",
    "    \"item3\": {\"price\": 30, \"discount\": 0.0},  # No discount\n",
    "}\n",
    "\n",
    "# Initialize the total cost\n",
    "total_cost = 0\n",
    "\n",
    "# Loop through the items in the shopping cart\n",
    "for item_name, item_info in items.items():\n",
    "    price = item_info[\"price\"]\n",
    "    discount = item_info[\"discount\"]\n",
    "    discounted_price = price - (price * discount)\n",
    "    total_cost += discounted_price\n",
    "\n",
    "# Print the total cost\n",
    "print(f\"Total cost of the shopping cart: ${total_cost:.2f}\")\n"
   ]
  },
  {
   "cell_type": "code",
   "execution_count": 11,
   "id": "7d242f60",
   "metadata": {},
   "outputs": [
    {
     "name": "stdout",
     "output_type": "stream",
     "text": [
      "Enter a number: 95\n",
      "This is an odd number\n"
     ]
    }
   ],
   "source": [
    "#10.\n",
    "\n",
    "# Ask the user for a number and convert it to an integer\n",
    "num = int(input('Enter a number: '))\n",
    "\n",
    "# Check if the number is even\n",
    "if num % 2 == 0:\n",
    "    # If it's even, print a message indicating it's an even number\n",
    "    print('This is an even number')\n",
    "else:\n",
    "    # If it's not even, print a message indicating it's an odd number\n",
    "    print('This is an odd number')"
   ]
  },
  {
   "cell_type": "code",
   "execution_count": 3,
   "id": "aa6a82b5",
   "metadata": {},
   "outputs": [
    {
     "name": "stdout",
     "output_type": "stream",
     "text": [
      "Enter the coefficient a: 8\n",
      "Enter the coefficient b: 8\n",
      "Enter the coefficient c: 2\n",
      "The root is real and repeated: -0.50\n"
     ]
    }
   ],
   "source": [
    "#11.\n",
    "\n",
    "# Ask the user for the coefficients of the quadratic equation\n",
    "a = float(input('Enter the coefficient a: '))\n",
    "b = float(input('Enter the coefficient b: '))\n",
    "c = float(input('Enter the coefficient c: '))\n",
    "\n",
    "# Calculate the discriminant (the value inside the square root)\n",
    "discriminant = b**2 - 4*a*c\n",
    "\n",
    "# Check if the discriminant is positive, negative, or zero to determine the type of roots\n",
    "if discriminant > 0:\n",
    "    # If the discriminant is positive, there are two real and distinct roots\n",
    "    root1 = (-b + (discriminant**0.5)) / (2*a)\n",
    "    root2 = (-b - (discriminant**0.5)) / (2*a)\n",
    "    print(f'The roots are real and distinct: {root1: .2f} and {root2: .2f}')\n",
    "elif discriminant == 0:\n",
    "    # If the discriminant is zero, there is one real root (a repeated root)\n",
    "    root = -b / (2*a)\n",
    "    print(f'The root is real and repeated: {root: .2f}')\n",
    "else:\n",
    "    # If the discriminant is negative, there are two complex roots\n",
    "    real_part = -b / (2*a)\n",
    "    imaginary_part = (abs(discriminant)**0.5) / (2*a)\n",
    "    print(f'The roots are complex: {real_part: .2f} + {imaginary_part: .2f}i and {real_part: .2f} - {imaginary_part: .2f}i')"
   ]
  },
  {
   "cell_type": "code",
   "execution_count": 4,
   "id": "dd008a54",
   "metadata": {},
   "outputs": [
    {
     "name": "stdout",
     "output_type": "stream",
     "text": [
      "Enter the number: 5\n",
      "The day of the week corresponding to 5 is Friday.\n"
     ]
    }
   ],
   "source": [
    "#12.\n",
    "\n",
    "# Ask the user for a number representing the day of the week\n",
    "day = int(input('Enter the number: '))\n",
    "\n",
    "# Create a list of day names corresponding to the numbers (1 to 7)\n",
    "days = ['Monday', 'Tuesday', 'Wednesday', 'Thursday', 'Friday', 'Saturday', 'Sunday']\n",
    "\n",
    "# Check if the input day falls within the valid range (1 to 7)\n",
    "if day >= 1 and day <= 7:\n",
    "    # Since the list is zero-indexed, subtract 1 from the input to get the correct index\n",
    "    day_name = days[day - 1]\n",
    "else:\n",
    "    # Handle the case where the input is not a valid day number\n",
    "    day_name = \"Invalid\"\n",
    "\n",
    "# Print the corresponding day of the week or an error message for invalid input\n",
    "if day_name != \"Invalid\":\n",
    "    print(f'The day of the week corresponding to {day} is {day_name}.')\n",
    "else:\n",
    "    print('Invalid input. Please enter a number between 1 and 7.')"
   ]
  },
  {
   "cell_type": "code",
   "execution_count": 8,
   "id": "ef7bdeb6",
   "metadata": {},
   "outputs": [
    {
     "name": "stdout",
     "output_type": "stream",
     "text": [
      "Enter the number you want to check the factorial of: 10\n",
      "The factorial of 10 is: 3628800\n"
     ]
    }
   ],
   "source": [
    "#13.\n",
    "\n",
    "# Define a recursive function to calculate the factorial of a number\n",
    "def fact(n):\n",
    "    if n == 0:\n",
    "        return 1\n",
    "    else:\n",
    "        return n * fact(n - 1)\n",
    "\n",
    "# Input from the user\n",
    "num = int(input('Enter the number you want to check the factorial of: '))\n",
    "\n",
    "# Check if the input is a non-negative integer\n",
    "if num < 0:\n",
    "    print('The factorial of a negative number cannot be determined')\n",
    "else:\n",
    "    # Calculate and display the factorial\n",
    "    result = fact(num)\n",
    "    print('The factorial of {0} is: {1}'.format(num, result))"
   ]
  },
  {
   "cell_type": "code",
   "execution_count": 9,
   "id": "456059d0",
   "metadata": {},
   "outputs": [
    {
     "name": "stdout",
     "output_type": "stream",
     "text": [
      "Enter the first number: 12\n",
      "Enter the second number: 18\n",
      "Enter the third number: 24\n",
      "The highest number among the three numbers is: 24\n"
     ]
    }
   ],
   "source": [
    "#14.\n",
    "\n",
    "# Input three integers from the user\n",
    "a = int(input('Enter the first number: '))\n",
    "b = int(input('Enter the second number: '))\n",
    "c = int(input('Enter the third number: '))\n",
    "\n",
    "# Create a list to hold the entered numbers\n",
    "numbers = [a, b, c]\n",
    "\n",
    "# Find the maximum number among the three\n",
    "maximum = max(numbers)\n",
    "\n",
    "# Display the result\n",
    "print(f'The highest number among the three numbers is: {maximum}')"
   ]
  },
  {
   "cell_type": "code",
   "execution_count": 2,
   "id": "78b8b27f",
   "metadata": {},
   "outputs": [
    {
     "name": "stdout",
     "output_type": "stream",
     "text": [
      "---------Welcome to the ATM--------\n",
      "\n",
      "1. Display Balance\n",
      "2. Deposit\n",
      "3. Withdraw\n",
      "4. Exit\n",
      "\n",
      "Enter your choice (1-4): 3\n",
      "Enter the amount you want to withdraw: 5800\n",
      "You have successfully withdrawn ₹5800.00 from your bank account, and your remaining balance is ₹4200.00\n",
      "\n",
      "Do you want to perform another transaction? (Y/N): n\n",
      "\n",
      "Thanks for Visiting, We Hope to See You Soon, Goodbye!\n"
     ]
    }
   ],
   "source": [
    "#15.\n",
    "\n",
    "# Initialize account balance\n",
    "balance = 10000\n",
    "\n",
    "# Function to display account balance\n",
    "def show_bal():\n",
    "    print(f'Your current account balance is: ₹{balance:.2f}')\n",
    "          \n",
    "# Function to deposit money\n",
    "def deposit():\n",
    "    global balance\n",
    "    amount = float(input('Enter the amount you want to deposit: '))\n",
    "    if amount > 0:\n",
    "        balance = balance + amount\n",
    "        print(f'You have successfully deposited ₹{amount:.2f} in your bank account, and your current balance is ₹{balance:.2f}')\n",
    "    else:\n",
    "        print('Please enter a valid amount!')\n",
    "\n",
    "# Function to withdraw money\n",
    "def withdraw():\n",
    "    global balance\n",
    "    amount = float(input('Enter the amount you want to withdraw: '))\n",
    "    if 0 < amount <= balance:\n",
    "        balance = balance - amount\n",
    "        print(f'You have successfully withdrawn ₹{amount:.2f} from your bank account, and your remaining balance is ₹{balance:.2f}')\n",
    "    elif amount < 0:\n",
    "        print('Please enter a valid amount!')\n",
    "    elif amount > balance:\n",
    "        print(\"You don't have sufficient balance in your bank account\")\n",
    "\n",
    "# Main ATM transaction loop\n",
    "while True:\n",
    "    print('---------Welcome to the ATM--------')\n",
    "    print(\"\\n1. Display Balance\")\n",
    "    print(\"2. Deposit\")\n",
    "    print(\"3. Withdraw\")\n",
    "    print(\"4. Exit\")\n",
    "    \n",
    "    # Get user choice\n",
    "    choice = int(input('\\nEnter your choice (1-4): '))\n",
    "    \n",
    "    # Exit if the user chooses option 4\n",
    "    if choice == 4:\n",
    "        print('\\nThanks for Visiting, We Hope to See You Soon, Goodbye!')\n",
    "        break\n",
    "    \n",
    "    # Perform actions based on user choice\n",
    "    if choice == 1:\n",
    "        show_bal()\n",
    "    elif choice == 2:\n",
    "        deposit()\n",
    "    elif choice == 3:\n",
    "        withdraw()\n",
    "    \n",
    "    # Ask the user if they want to continue\n",
    "    continue_choice = input(\"\\nDo you want to perform another transaction? (Y/N): \").lower()\n",
    "    \n",
    "    # Exit if the user chooses not to continue\n",
    "    if continue_choice != 'y':\n",
    "        print('\\nThanks for Visiting, We Hope to See You Soon, Goodbye!')\n",
    "        break\n",
    "         "
   ]
  },
  {
   "cell_type": "code",
   "execution_count": 8,
   "id": "4e04cafc",
   "metadata": {},
   "outputs": [
    {
     "name": "stdout",
     "output_type": "stream",
     "text": [
      "Enter the string: level\n",
      "level is a palindrome\n"
     ]
    }
   ],
   "source": [
    "#16.\n",
    "\n",
    "# Define a function to check if a string is a palindrome\n",
    "def is_palindrome(input_string):\n",
    "    # Reverse the input string using slicing and store it in reversed_string\n",
    "    reversed_string = input_string[::-1]\n",
    "    \n",
    "    # Check if the reversed string is equal to the original input string\n",
    "    if reversed_string == input_string:\n",
    "        # If they are equal, return True (it's a palindrome)\n",
    "        return True\n",
    "    else:\n",
    "        # If they are not equal, return False (it's not a palindrome)\n",
    "        return False\n",
    "\n",
    "# Get user input for a string\n",
    "user_input = input('Enter a string: ')\n",
    "\n",
    "# Call the is_palindrome function and check its result\n",
    "if is_palindrome(user_input):\n",
    "    # If it's a palindrome, print a message indicating it's a palindrome\n",
    "    print(f'{user_input} is a palindrome')\n",
    "else:\n",
    "    # If it's not a palindrome, print a message indicating it's not a palindrome\n",
    "    print(f'{user_input} is not a palindrome')"
   ]
  },
  {
   "cell_type": "code",
   "execution_count": 12,
   "id": "795f8c28",
   "metadata": {},
   "outputs": [
    {
     "name": "stdout",
     "output_type": "stream",
     "text": [
      "The average of the numbers (excluding extremes) is: 11.20\n"
     ]
    }
   ],
   "source": [
    "#17.\n",
    "\n",
    "# Example list of numbers\n",
    "numbers = [12, 5, 8, 19, 7, 22, 10]\n",
    "\n",
    "# Check if the list is empty\n",
    "if not numbers:\n",
    "    print(\"The list is empty, so the average cannot be calculated.\")\n",
    "else:\n",
    "    # Sort the list in ascending order\n",
    "    numbers.sort()\n",
    "    \n",
    "    # Exclude the smallest and largest values by slicing\n",
    "    trimmed_numbers = numbers[1:-1]\n",
    "    \n",
    "    # Calculate the average by dividing the sum of trimmed numbers by their count\n",
    "    average = sum(trimmed_numbers) / len(trimmed_numbers)\n",
    "    \n",
    "    print(f\"The average of the numbers (excluding extremes) is: {average:.2f}\")\n"
   ]
  },
  {
   "cell_type": "code",
   "execution_count": 13,
   "id": "6fbcee45",
   "metadata": {},
   "outputs": [
    {
     "name": "stdout",
     "output_type": "stream",
     "text": [
      "Enter temperature in Celsius: 40\n",
      "40.00 degrees Celsius is equal to 104.00 degrees Fahrenheit.\n"
     ]
    }
   ],
   "source": [
    "#18.\n",
    "\n",
    "# Input temperature in Celsius\n",
    "celsius = float(input(\"Enter temperature in Celsius: \"))\n",
    "\n",
    "# Convert Celsius to Fahrenheit\n",
    "fahrenheit = (celsius * 9/5) + 32\n",
    "\n",
    "# Display the result\n",
    "print(f\"{celsius:.2f} degrees Celsius is equal to {fahrenheit:.2f} degrees Fahrenheit.\")\n"
   ]
  },
  {
   "cell_type": "code",
   "execution_count": 1,
   "id": "d6513f19",
   "metadata": {},
   "outputs": [
    {
     "name": "stdout",
     "output_type": "stream",
     "text": [
      "Options:\n",
      "Enter 'add' for addition\n",
      "Enter 'subtract' for subtraction\n",
      "Enter 'multiply' for multiplication\n",
      "Enter 'divide' for division\n",
      "Enter 'quit' to end the program\n",
      ": multiply\n",
      "Enter first number: 56\n",
      "Enter second number: 89\n",
      "Result: 4984.0\n",
      "Options:\n",
      "Enter 'add' for addition\n",
      "Enter 'subtract' for subtraction\n",
      "Enter 'multiply' for multiplication\n",
      "Enter 'divide' for division\n",
      "Enter 'quit' to end the program\n",
      ": quit\n"
     ]
    }
   ],
   "source": [
    "#19.\n",
    "\n",
    "# Function to perform addition\n",
    "def add(x, y):\n",
    "    return x + y\n",
    "\n",
    "# Function to perform subtraction\n",
    "def subtract(x, y):\n",
    "    return x - y\n",
    "\n",
    "# Function to perform multiplication\n",
    "def multiply(x, y):\n",
    "    return x * y\n",
    "\n",
    "# Function to perform division\n",
    "def divide(x, y):\n",
    "    if y == 0:\n",
    "        return \"Division by zero is not allowed\"\n",
    "    return x / y\n",
    "\n",
    "# Main program loop\n",
    "while True:\n",
    "    print(\"Options:\")\n",
    "    print(\"Enter 'add' for addition\")\n",
    "    print(\"Enter 'subtract' for subtraction\")\n",
    "    print(\"Enter 'multiply' for multiplication\")\n",
    "    print(\"Enter 'divide' for division\")\n",
    "    print(\"Enter 'quit' to end the program\")\n",
    "\n",
    "    user_input = input(\": \").lower()\n",
    "\n",
    "    if user_input == \"quit\":\n",
    "        break\n",
    "    elif user_input in (\"add\", \"subtract\", \"multiply\", \"divide\"):\n",
    "        num1 = float(input(\"Enter first number: \"))\n",
    "        num2 = float(input(\"Enter second number: \"))\n",
    "\n",
    "        if user_input == \"add\":\n",
    "            print(\"Result:\", add(num1, num2))\n",
    "        elif user_input == \"subtract\":\n",
    "            print(\"Result:\", subtract(num1, num2))\n",
    "        elif user_input == \"multiply\":\n",
    "            print(\"Result:\", multiply(num1, num2))\n",
    "        elif user_input == \"divide\":\n",
    "            print(\"Result:\", divide(num1, num2))\n",
    "    else:\n",
    "        print(\"Invalid input. Please enter a valid operation (add, subtract, multiply, divide) or 'quit'.\")\n"
   ]
  },
  {
   "cell_type": "code",
   "execution_count": 2,
   "id": "3a0c00ac",
   "metadata": {},
   "outputs": [
    {
     "name": "stdout",
     "output_type": "stream",
     "text": [
      "Enter coefficient a: 4\n",
      "Enter coefficient b: -11\n",
      "Enter coefficient c: 6\n",
      "Enter coefficient d: 5\n",
      "One real root: 0.49-0.74j\n",
      "Two complex roots: 0.43+0.74j and -0.37-0.64j\n"
     ]
    }
   ],
   "source": [
    "#20.\n",
    "\n",
    "import cmath  # Import the complex math library\n",
    "\n",
    "# Input coefficients a, b, c, and d for the cubic equation ax^3 + bx^2 + cx + d = 0\n",
    "a = float(input(\"Enter coefficient a: \"))\n",
    "b = float(input(\"Enter coefficient b: \"))\n",
    "c = float(input(\"Enter coefficient c: \"))\n",
    "d = float(input(\"Enter coefficient d: \"))\n",
    "\n",
    "# Calculate intermediate values\n",
    "p = (3 * a * c - b ** 2) / (3 * a ** 2)\n",
    "q = (2 * b ** 3 - 9 * a * b * c + 27 * a ** 2 * d) / (27 * a ** 3)\n",
    "\n",
    "# Calculate the discriminant of the intermediate values\n",
    "delta_0 = q ** 2 + (4 * p ** 3) / 27\n",
    "\n",
    "# Calculate the roots based on the value of delta_0\n",
    "if delta_0 > 0:\n",
    "    # One real root and two complex roots\n",
    "    root1 = (-q + cmath.sqrt(delta_0)) ** (1 / 3)\n",
    "    root2 = (-q - cmath.sqrt(delta_0)) ** (1 / 3)\n",
    "    real_root = -(b / (3 * a)) - (root1 + root2) / 2\n",
    "    complex_roots = [(root1 + root2) / 2, cmath.sqrt(3) * (root1 - root2) / 2]\n",
    "    \n",
    "    print(f\"One real root: {real_root:.2f}\")\n",
    "    print(f\"Two complex roots: {complex_roots[0]:.2f} and {complex_roots[1]:.2f}\")\n",
    "\n",
    "elif delta_0 == 0:\n",
    "    # Three real roots (one repeated root)\n",
    "    root1 = -q ** (1 / 3)\n",
    "    root2 = -2 * root1\n",
    "    root3 = root2\n",
    "    \n",
    "    print(f\"Three real roots (one repeated): {root1:.2f}, {root2:.2f}, {root3:.2f}\")\n",
    "\n",
    "else:\n",
    "    # Three distinct real roots\n",
    "    phi = cmath.acos(-q / (2 * cmath.sqrt(-p ** 3)))\n",
    "    root1 = 2 * cmath.sqrt(-p / 3) * cmath.cos(phi / 3)\n",
    "    root2 = 2 * cmath.sqrt(-p / 3) * cmath.cos((phi + 2 * cmath.pi) / 3)\n",
    "    root3 = 2 * cmath.sqrt(-p / 3) * cmath.cos((phi + 4 * cmath.pi) / 3)\n",
    "    \n",
    "    print(f\"Three distinct real roots: {root1:.2f}, {root2:.2f}, {root3:.2f}\")\n"
   ]
  },
  {
   "cell_type": "code",
   "execution_count": 4,
   "id": "4f13434f",
   "metadata": {},
   "outputs": [
    {
     "name": "stdout",
     "output_type": "stream",
     "text": [
      "Enter your income: 37000\n",
      "Your income tax is: INR7099.50\n"
     ]
    }
   ],
   "source": [
    "#21.\n",
    "\n",
    "# Define tax brackets and rates\n",
    "tax_brackets = [(0, 10000), (10001, 30000), (30001, 70000)]\n",
    "tax_rates = [0.10, 0.20, 0.30]\n",
    "\n",
    "# Input user's income\n",
    "income = float(input(\"Enter your income: \"))\n",
    "\n",
    "# Calculate income tax\n",
    "tax = 0\n",
    "for i, (lower, upper) in enumerate(tax_brackets):\n",
    "    if income <= lower:\n",
    "        break\n",
    "    elif income <= upper:\n",
    "        tax += (income - lower) * tax_rates[i]\n",
    "        break\n",
    "    else:\n",
    "        tax += (upper - lower) * tax_rates[i]\n",
    "\n",
    "print(f\"Your income tax is: INR{tax:.2f}\")\n"
   ]
  },
  {
   "cell_type": "code",
   "execution_count": 5,
   "id": "e298dbdc",
   "metadata": {},
   "outputs": [
    {
     "name": "stdout",
     "output_type": "stream",
     "text": [
      "Enter your choice (rock, paper, scissors): scissors\n",
      "Computer chose: rock\n",
      "Computer wins!\n"
     ]
    }
   ],
   "source": [
    "#22.\n",
    "\n",
    "import random\n",
    "\n",
    "choices = [\"rock\", \"paper\", \"scissors\"]\n",
    "\n",
    "# Get user's choice\n",
    "user_choice = input(\"Enter your choice (rock, paper, scissors): \")\n",
    "computer_choice = random.choice(choices)\n",
    "\n",
    "print(f\"Computer chose: {computer_choice}\")\n",
    "\n",
    "# Determine the winner\n",
    "if user_choice == computer_choice:\n",
    "    print(\"It's a tie!\")\n",
    "elif (\n",
    "    (user_choice == \"rock\" and computer_choice == \"scissors\") or\n",
    "    (user_choice == \"paper\" and computer_choice == \"rock\") or\n",
    "    (user_choice == \"scissors\" and computer_choice == \"paper\")\n",
    "):\n",
    "    print(\"You win!\")\n",
    "else:\n",
    "    print(\"Computer wins!\")\n"
   ]
  },
  {
   "cell_type": "code",
   "execution_count": 6,
   "id": "780acd1b",
   "metadata": {},
   "outputs": [
    {
     "name": "stdout",
     "output_type": "stream",
     "text": [
      "Enter password length: 8\n",
      "Enter complexity level (easy, medium, hard): hard\n",
      "Generated password: tfmaHoT.\n"
     ]
    }
   ],
   "source": [
    "#23.\n",
    "\n",
    "import random\n",
    "import string\n",
    "\n",
    "def generate_password(length, complexity):\n",
    "    if complexity == \"easy\":\n",
    "        characters = string.ascii_letters\n",
    "    elif complexity == \"medium\":\n",
    "        characters = string.ascii_letters + string.digits\n",
    "    elif complexity == \"hard\":\n",
    "        characters = string.ascii_letters + string.digits + string.punctuation\n",
    "    else:\n",
    "        return \"Invalid complexity level\"\n",
    "\n",
    "    password = ''.join(random.choice(characters) for _ in range(length))\n",
    "    return password\n",
    "\n",
    "# Get user's preferences\n",
    "length = int(input(\"Enter password length: \"))\n",
    "complexity = input(\"Enter complexity level (easy, medium, hard): \")\n",
    "\n",
    "# Generate and display the password\n",
    "password = generate_password(length, complexity)\n",
    "print(f\"Generated password: {password}\")\n"
   ]
  },
  {
   "cell_type": "code",
   "execution_count": 8,
   "id": "9c084e65",
   "metadata": {},
   "outputs": [
    {
     "name": "stdout",
     "output_type": "stream",
     "text": [
      "Welcome to the Text-Based Adventure Game!\n",
      "You find yourself in front of a mysterious cave.\n",
      "Do you want to enter the cave? (yes/no): yes\n",
      "You enter the cave and discover two paths.\n",
      "Do you take the left path or the right path? (left/right): left\n",
      "You find a treasure chest filled with gold! You win!\n"
     ]
    }
   ],
   "source": [
    "#24.\n",
    "\n",
    "# Welcome message\n",
    "print(\"Welcome to the Text-Based Adventure Game!\")\n",
    "\n",
    "# Starting scenario\n",
    "print(\"You find yourself in front of a mysterious cave.\")\n",
    "choice = input(\"Do you want to enter the cave? (yes/no): \")\n",
    "\n",
    "# Check user's choice\n",
    "if choice.lower() == \"yes\":\n",
    "    print(\"You enter the cave and discover two paths.\")\n",
    "    choice = input(\"Do you take the left path or the right path? (left/right): \")\n",
    "\n",
    "    # Check user's second choice\n",
    "    if choice.lower() == \"left\":\n",
    "        print(\"You find a treasure chest filled with gold! You win!\")\n",
    "    elif choice.lower() == \"right\":\n",
    "        print(\"You encounter a dragon and become its lunch. Game over!\")\n",
    "    else:\n",
    "        print(\"Invalid choice. Game over!\")\n",
    "else:\n",
    "    print(\"You decide not to enter the cave and head back. Game over!\")\n"
   ]
  },
  {
   "cell_type": "code",
   "execution_count": 9,
   "id": "b1645e44",
   "metadata": {},
   "outputs": [
    {
     "name": "stdout",
     "output_type": "stream",
     "text": [
      "Linear Equation Solver (ax + b = 0)\n",
      "Enter the coefficient 'a': 5\n",
      "Enter the constant 'b': 12\n",
      "The solution is x = -2.40\n"
     ]
    }
   ],
   "source": [
    "#25.\n",
    "\n",
    "# Prompt for coefficients\n",
    "print(\"Linear Equation Solver (ax + b = 0)\")\n",
    "a = float(input(\"Enter the coefficient 'a': \"))\n",
    "b = float(input(\"Enter the constant 'b': \"))\n",
    "\n",
    "# Check for special cases and calculate the solution\n",
    "if a == 0:\n",
    "    if b == 0:\n",
    "        print(\"Infinite solutions (the equation is an identity).\")\n",
    "    else:\n",
    "        print(\"No solution (the equation is contradictory).\")\n",
    "else:\n",
    "    x = -b / a\n",
    "    print(f\"The solution is x = {x:.2f}\")\n"
   ]
  },
  {
   "cell_type": "code",
   "execution_count": 10,
   "id": "ea3054da",
   "metadata": {},
   "outputs": [
    {
     "name": "stdout",
     "output_type": "stream",
     "text": [
      "------------------------------------------------Welcome to KBC---------------------------------------------------------\n",
      "                                                **************                                                      \n",
      "\n",
      "\n",
      "The Question for Rs.1000 is\n",
      "---------------------------------------\n",
      "Who was the first player in the ODI cricket history to hit a double hundred?\n",
      "---------------------------------------\n",
      "1. Sachin Tendulkar \t\t 2. Rohit Sharma\n",
      "3. Virender Sehwag \t\t 4. Ishan Kishan\n",
      "---------------------------------------\n",
      "Choose the correct option (1-4) or You can press \"0\" to quit the game: 1\n",
      "\n",
      "Excellent! Your answer is correct, and you have won Rs.1000\n",
      "\n",
      "\n",
      "The Question for Rs.2000 is\n",
      "---------------------------------------\n",
      "Who is known as \"Mr. Cricket\"?\n",
      "---------------------------------------\n",
      "1. Ricky Ponting \t\t 2. Mike Hussey\n",
      "3. Brian Lara \t\t 4. Sir Donald Bradman\n",
      "---------------------------------------\n",
      "Choose the correct option (1-4) or You can press \"0\" to quit the game: 0\n",
      "\n",
      "Ohho, We are sorry to see you go\n",
      "\n",
      "Do you want to play again? (Y/N): n\n",
      "\n",
      "--------------------------------------------------Thanks for Playing the Game--------------------------------------------------------\n",
      "                                                   ****************************                                                        \n",
      "\n",
      "Your Take Home Amount is: 1000\n"
     ]
    }
   ],
   "source": [
    "# Welcome message\n",
    "print('------------------------------------------------Welcome to KBC---------------------------------------------------------')\n",
    "print('                                                **************                                                      ')\n",
    "\n",
    "# List of questions, options, and correct answers\n",
    "q = [\n",
    "    ['Who was the first player in the ODI cricket history to hit a double hundred?', '1. Sachin Tendulkar', '2. Rohit Sharma', '3. Virender Sehwag', '4. Ishan Kishan', 1],\n",
    "    ['Who is known as \"Mr. Cricket\"?', '1. Ricky Ponting', '2. Mike Hussey', '3. Brian Lara', '4. Sir Donald Bradman', 2],\n",
    "    ['Who is the current President of the United States?', '1. Barrack Obama', '2. George Bush', '3. Bill Clinton', '4. Joe Biden', 4],\n",
    "    ['What is the capital city of Japan?', '1. Tokyo', '2. Ohio', '3. Kyoto', '4. Osaka', 1],\n",
    "    ['In which sport would you perform a slam dunk?', '1. Baseball', '2. Cricket', '3. Basketball', '4. Football', 3],\n",
    "    ['Which famous explorer is credited with discovering America?', '1. Christopher Columbus', '2. Marco Polo', '3. Vasco Da Gama', '4. Ibn-e-Batuta', 1],\n",
    "    ['What is the chemical symbol for iron?', '1. Fe', '2. Mg', '3. Ca', '4. K', 1],\n",
    "    ['Who was the first President of the United States?', '1. Bill Clinton', '2. Donald Trump', '3. Richard Nixon', '4. George Washington', 4],\n",
    "    ['Which country is known as the Land of the Rising Sun?', '1. China', '2. Korea', '3. Japan', '4. Australia', 3],\n",
    "    ['Which planet is known as the \"Red Planet\"?', '1. Saturn', '2. Mars', '3. Earth', '4. Venus', 2],\n",
    "    ['Who wrote the play \"Hamlet\"?', '1. William Shakespeare', '2. Mark Twain', '3. Leo Tolstoy', '4. J.K. Rowling', 1],\n",
    "    ['What is the main ingredient in guacamole?', '1. Peanuts', '2. Avacado', '3. Olive', '4. Almonds', 2],\n",
    "    ['Which artist is famous for painting \"The Starry Night\"?', '1. Vincent van Gogh', '2. Leonardo da Vinci', '3. Pablo Picasso', '4. Michelangelo', 1],\n",
    "    ['Who was the ancient Greek goddess of wisdom and warfare?', '1. Zeus', '2. Athena', '3. Hera', '4. Artemis', 2],\n",
    "    ['Who is the founder of \"Python\" language?', '1. James Gosling', '2. Guido van Rossum', '3. Brendan Eich', '4. Bjarne Stroustrup', 2]\n",
    "]\n",
    "\n",
    "# Prize levels for each question\n",
    "levels = [1000, 2000, 3000, 5000, 10000, 20000, 40000, 80000, 160000, 320000, 640000, 1250000, 2500000, 5000000, 10000000]\n",
    "\n",
    "# Initialize the money won\n",
    "money = 0\n",
    "\n",
    "# Main game loop\n",
    "while True:\n",
    "    # Loop through the questions\n",
    "    for i in range(0, len(q)):\n",
    "        que = q[i]\n",
    "        print(f'\\n\\nThe Question for Rs.{levels[i]} is')\n",
    "        print('---------------------------------------')\n",
    "        print(que[0])\n",
    "        print('---------------------------------------')\n",
    "        print(f'{que[1]} \\t\\t {que[2]}')\n",
    "        print(f'{que[3]} \\t\\t {que[4]}')\n",
    "        print('---------------------------------------')\n",
    "        ans = int(input('Choose the correct option (1-4) or You can press \"0\" to quit the game: '))\n",
    "\n",
    "        if i == 0 and ans == 0:\n",
    "            print(\"\\nYou are quitting in the first question. We expect you to play the game again...\")\n",
    "            money = 0\n",
    "            break\n",
    "\n",
    "        if (i != 0 and ans == 0):\n",
    "            money = levels[i - 1]\n",
    "            print('\\nOhho, We are sorry to see you go')\n",
    "            break\n",
    "\n",
    "        if (ans == que[5]):\n",
    "            print(f'\\nExcellent! Your answer is correct, and you have won Rs.{levels[i]}')\n",
    "            if (i == 4):\n",
    "                money = 10000\n",
    "                print('\\nCongrats! You have completed the first step successfully. Keep it up!')\n",
    "            elif (i == 9):\n",
    "                money = 320000\n",
    "                print('\\nWell done! You have completed the second step successfully. Best of luck!')\n",
    "            elif (i == 14):\n",
    "                money = 10000000\n",
    "                print('\\nHurray! You have answered all the answers correctly')\n",
    "        else:\n",
    "            print(f'\\nOOPS! Your answer is wrong, the correct answer is {que[5]}')\n",
    "            break\n",
    "\n",
    "    play_again = input(\"\\nDo you want to play again? (Y/N): \")\n",
    "    if play_again.upper() != \"Y\":\n",
    "        break\n",
    "\n",
    "# Game over message\n",
    "print('\\n--------------------------------------------------Thanks for Playing the Game--------------------------------------------------------')\n",
    "print('                                                   ****************************                                                        ')\n",
    "print('\\nYour Take Home Amount is:', money)\n"
   ]
  },
  {
   "cell_type": "code",
   "execution_count": 11,
   "id": "e05164d9",
   "metadata": {},
   "outputs": [
    {
     "name": "stdout",
     "output_type": "stream",
     "text": [
      "Enter a year to check if it's prime: 2015\n",
      "2015 is not a prime year.\n"
     ]
    }
   ],
   "source": [
    "#27.\n",
    "\n",
    "# Function to check if a number is prime\n",
    "def is_prime(n):\n",
    "    if n <= 1:\n",
    "        return False\n",
    "    if n <= 3:\n",
    "        return True\n",
    "    if n % 2 == 0 or n % 3 == 0:\n",
    "        return False\n",
    "    i = 5\n",
    "    while i * i <= n:\n",
    "        if n % i == 0 or n % (i + 2) == 0:\n",
    "            return False\n",
    "        i += 6\n",
    "    return True\n",
    "\n",
    "# Input a year from the user\n",
    "year = int(input(\"Enter a year to check if it's prime: \"))\n",
    "\n",
    "# Check if the year is prime and display the result\n",
    "if is_prime(year):\n",
    "    print(f\"{year} is a prime year.\")\n",
    "else:\n",
    "    print(f\"{year} is not a prime year.\")\n"
   ]
  },
  {
   "cell_type": "code",
   "execution_count": 12,
   "id": "81f71dbf",
   "metadata": {},
   "outputs": [
    {
     "name": "stdout",
     "output_type": "stream",
     "text": [
      "Enter the first number: 58\n",
      "Enter the second number: 69\n",
      "Enter the third number: 156\n",
      "Sorted numbers in ascending order: [58.0, 69.0, 156.0]\n"
     ]
    }
   ],
   "source": [
    "#28.\n",
    "\n",
    "# Input three numbers from the user\n",
    "num1 = float(input(\"Enter the first number: \"))\n",
    "num2 = float(input(\"Enter the second number: \"))\n",
    "num3 = float(input(\"Enter the third number: \"))\n",
    "\n",
    "# Sort the numbers in ascending order using conditional statements\n",
    "if num1 <= num2 <= num3:\n",
    "    sorted_nums = [num1, num2, num3]\n",
    "elif num1 <= num3 <= num2:\n",
    "    sorted_nums = [num1, num3, num2]\n",
    "elif num2 <= num1 <= num3:\n",
    "    sorted_nums = [num2, num1, num3]\n",
    "elif num2 <= num3 <= num1:\n",
    "    sorted_nums = [num2, num3, num1]\n",
    "elif num3 <= num1 <= num2:\n",
    "    sorted_nums = [num3, num1, num2]\n",
    "else:\n",
    "    sorted_nums = [num3, num2, num1]\n",
    "\n",
    "# Display the sorted numbers\n",
    "print(\"Sorted numbers in ascending order:\", sorted_nums)\n"
   ]
  },
  {
   "cell_type": "code",
   "execution_count": 13,
   "id": "f6143018",
   "metadata": {},
   "outputs": [
    {
     "name": "stdout",
     "output_type": "stream",
     "text": [
      "Enter coefficient a: 21\n",
      "Enter coefficient b: 12\n",
      "Enter coefficient c: 14\n",
      "Enter coefficient d: 51\n",
      "Enter coefficient e: 21\n",
      "No root found within the specified bracket.\n"
     ]
    }
   ],
   "source": [
    "#29.\n",
    "\n",
    "# Import necessary libraries\n",
    "import numpy as np\n",
    "from scipy.optimize import root_scalar\n",
    "\n",
    "# Define the quartic equation: ax^4 + bx^3 + cx^2 + dx + e = 0\n",
    "a = float(input(\"Enter coefficient a: \"))\n",
    "b = float(input(\"Enter coefficient b: \"))\n",
    "c = float(input(\"Enter coefficient c: \"))\n",
    "d = float(input(\"Enter coefficient d: \"))\n",
    "e = float(input(\"Enter coefficient e: \"))\n",
    "\n",
    "# Define a function for the quartic equation\n",
    "def quartic_eq(x):\n",
    "    return a * x**4 + b * x**3 + c * x**2 + d * x + e\n",
    "\n",
    "# Solve the quartic equation using numerical methods\n",
    "result = root_scalar(quartic_eq, bracket=[-np.inf, np.inf])\n",
    "\n",
    "# Check if the root was found and display the result\n",
    "if result.converged:\n",
    "    root = result.root\n",
    "    print(f\"The root of the quartic equation is: {root:.4f}\")\n",
    "else:\n",
    "    print(\"No root found within the specified bracket.\")\n",
    "\n"
   ]
  },
  {
   "cell_type": "code",
   "execution_count": 14,
   "id": "0b177265",
   "metadata": {},
   "outputs": [
    {
     "name": "stdout",
     "output_type": "stream",
     "text": [
      "Enter your weight in kilograms: 50\n",
      "Enter your height in meters: 168\n",
      "Your BMI is: 0.00\n",
      "You are categorized as: Underweight\n",
      "Recommendation: You should consider gaining some weight to reach a healthy BMI.\n"
     ]
    }
   ],
   "source": [
    "#30.\n",
    "\n",
    "# Get user input for weight (in kilograms) and height (in meters)\n",
    "weight = float(input(\"Enter your weight in kilograms: \"))\n",
    "height = float(input(\"Enter your height in meters: \"))\n",
    "\n",
    "# Calculate BMI\n",
    "bmi = weight / (height ** 2)\n",
    "\n",
    "# Determine BMI category and provide health recommendations\n",
    "if bmi < 18.5:\n",
    "    category = \"Underweight\"\n",
    "    recommendation = \"You should consider gaining some weight to reach a healthy BMI.\"\n",
    "elif 18.5 <= bmi < 24.9:\n",
    "    category = \"Normal Weight\"\n",
    "    recommendation = \"Congratulations! You are within a healthy BMI range. Keep up the good work.\"\n",
    "elif 25 <= bmi < 29.9:\n",
    "    category = \"Overweight\"\n",
    "    recommendation = \"You should consider losing some weight to reach a healthy BMI.\"\n",
    "else:\n",
    "    category = \"Obese\"\n",
    "    recommendation = \"It's important to consult with a healthcare professional and consider a weight management plan.\"\n",
    "\n",
    "# Display the BMI, category, and health recommendation\n",
    "print(f\"Your BMI is: {bmi:.2f}\")\n",
    "print(f\"You are categorized as: {category}\")\n",
    "print(f\"Recommendation: {recommendation}\")\n"
   ]
  },
  {
   "cell_type": "code",
   "execution_count": 16,
   "id": "165bb098",
   "metadata": {},
   "outputs": [
    {
     "name": "stdout",
     "output_type": "stream",
     "text": [
      "Enter your password: Hesoyamw@23\n",
      "Password is valid.\n"
     ]
    }
   ],
   "source": [
    "#31.\n",
    "\n",
    "# Get the password from the user\n",
    "password = input(\"Enter your password: \")\n",
    "\n",
    "# Define complexity rules\n",
    "# Rule 1: Password should be at least 8 characters long\n",
    "# Rule 2: Password should contain at least one uppercase letter\n",
    "# Rule 3: Password should contain at least one lowercase letter\n",
    "# Rule 4: Password should contain at least one digit\n",
    "if len(password) >= 8 and any(c.isupper() for c in password) and any(c.islower() for c in password) and any(c.isdigit() for c in password):\n",
    "    print(\"Password is valid.\")\n",
    "else:\n",
    "    print(\"Password is not valid. Please ensure it meets the complexity rules.\")\n"
   ]
  },
  {
   "cell_type": "code",
   "execution_count": 17,
   "id": "b55a13ac",
   "metadata": {},
   "outputs": [
    {
     "name": "stdout",
     "output_type": "stream",
     "text": [
      "Enter the number of rows: 4\n",
      "Enter the number of columns: 3\n",
      "Enter elements of the first matrix:\n",
      "Enter element at position (1, 1): 32\n",
      "Enter element at position (1, 2): 21\n",
      "Enter element at position (1, 3): 12\n",
      "Enter element at position (2, 1): 12\n",
      "Enter element at position (2, 2): 12\n",
      "Enter element at position (2, 3): 23\n",
      "Enter element at position (3, 1): 12\n",
      "Enter element at position (3, 2): 12\n",
      "Enter element at position (3, 3): 12\n",
      "Enter element at position (4, 1): 12\n",
      "Enter element at position (4, 2): 32\n",
      "Enter element at position (4, 3): 21\n",
      "Enter elements of the second matrix:\n",
      "Enter element at position (1, 1): 15\n",
      "Enter element at position (1, 2): 16\n",
      "Enter element at position (1, 3): 16\n",
      "Enter element at position (2, 1): 14\n",
      "Enter element at position (2, 2): 23\n",
      "Enter element at position (2, 3): 14\n",
      "Enter element at position (3, 1): 69\n",
      "Enter element at position (3, 2): 35\n",
      "Enter element at position (3, 3): 143\n",
      "Enter element at position (4, 1): 21\n",
      "Enter element at position (4, 2): 23\n",
      "Enter element at position (4, 3): 123\n",
      "Matrix Addition:\n",
      "[47, 37, 28]\n",
      "[26, 35, 37]\n",
      "[81, 47, 155]\n",
      "[33, 55, 144]\n",
      "Matrix Subtraction:\n",
      "[17, 5, -4]\n",
      "[-2, -11, 9]\n",
      "[-57, -23, -131]\n",
      "[-9, 9, -102]\n"
     ]
    }
   ],
   "source": [
    "#32.\n",
    "\n",
    "# Get the dimensions of the matrices\n",
    "rows = int(input(\"Enter the number of rows: \"))\n",
    "cols = int(input(\"Enter the number of columns: \"))\n",
    "\n",
    "# Initialize empty matrices\n",
    "matrix1 = []\n",
    "matrix2 = []\n",
    "\n",
    "# Input elements of the first matrix\n",
    "print(\"Enter elements of the first matrix:\")\n",
    "for i in range(rows):\n",
    "    row = []\n",
    "    for j in range(cols):\n",
    "        row.append(int(input(f\"Enter element at position ({i+1}, {j+1}): \")))\n",
    "    matrix1.append(row)\n",
    "\n",
    "# Input elements of the second matrix\n",
    "print(\"Enter elements of the second matrix:\")\n",
    "for i in range(rows):\n",
    "    row = []\n",
    "    for j in range(cols):\n",
    "        row.append(int(input(f\"Enter element at position ({i+1}, {j+1}): \")))\n",
    "    matrix2.append(row)\n",
    "\n",
    "# Perform matrix addition and subtraction\n",
    "result_addition = [[matrix1[i][j] + matrix2[i][j] for j in range(cols)] for i in range(rows)]\n",
    "result_subtraction = [[matrix1[i][j] - matrix2[i][j] for j in range(cols)] for i in range(rows)]\n",
    "\n",
    "# Display the results\n",
    "print(\"Matrix Addition:\")\n",
    "for row in result_addition:\n",
    "    print(row)\n",
    "\n",
    "print(\"Matrix Subtraction:\")\n",
    "for row in result_subtraction:\n",
    "    print(row)\n"
   ]
  },
  {
   "cell_type": "code",
   "execution_count": 18,
   "id": "9fc2e3e8",
   "metadata": {},
   "outputs": [
    {
     "name": "stdout",
     "output_type": "stream",
     "text": [
      "Enter the first number: 12\n",
      "Enter the second number: 15\n",
      "The greatest common divisor (GCD) of 12 and 15 is 3.\n"
     ]
    }
   ],
   "source": [
    "#33.\n",
    "\n",
    "# Function to calculate GCD using Euclidean Algorithm\n",
    "def gcd(a, b):\n",
    "    while b:\n",
    "        a, b = b, a % b\n",
    "    return a\n",
    "\n",
    "# Get input from the user\n",
    "num1 = int(input(\"Enter the first number: \"))\n",
    "num2 = int(input(\"Enter the second number: \"))\n",
    "\n",
    "# Calculate and display the GCD\n",
    "result = gcd(num1, num2)\n",
    "print(f\"The greatest common divisor (GCD) of {num1} and {num2} is {result}.\")\n",
    "\n"
   ]
  },
  {
   "cell_type": "code",
   "execution_count": 19,
   "id": "2cef915d",
   "metadata": {},
   "outputs": [
    {
     "name": "stdout",
     "output_type": "stream",
     "text": [
      "Enter the number of rows for matrix A: 2\n",
      "Enter the number of columns for matrix A: 2\n",
      "Enter the number of rows for matrix B: 2\n",
      "Enter the number of columns for matrix B: 1\n",
      "Enter elements of the first matrix:\n",
      "Enter element at position (1, 1): 12\n",
      "Enter element at position (1, 2): 6\n",
      "Enter element at position (2, 1): 12\n",
      "Enter element at position (2, 2): 6\n",
      "Enter elements of the second matrix:\n",
      "Enter element at position (1, 1): 10\n",
      "Enter element at position (2, 1): 5\n",
      "Matrix Multiplication Result:\n",
      "[150]\n",
      "[150]\n"
     ]
    }
   ],
   "source": [
    "#34.\n",
    "\n",
    "# Get dimensions of the matrices\n",
    "rows1 = int(input(\"Enter the number of rows for matrix A: \"))\n",
    "cols1 = int(input(\"Enter the number of columns for matrix A: \"))\n",
    "rows2 = int(input(\"Enter the number of rows for matrix B: \"))\n",
    "cols2 = int(input(\"Enter the number of columns for matrix B: \"))\n",
    "\n",
    "# Check if matrix multiplication is possible\n",
    "if cols1 != rows2:\n",
    "    print(\"Matrix multiplication is not possible.\")\n",
    "else:\n",
    "    # Initialize matrices\n",
    "    matrix1 = []\n",
    "    matrix2 = []\n",
    "\n",
    "    # Input elements of the first matrix\n",
    "    print(\"Enter elements of the first matrix:\")\n",
    "    for i in range(rows1):\n",
    "        row = []\n",
    "        for j in range(cols1):\n",
    "            row.append(int(input(f\"Enter element at position ({i+1}, {j+1}): \")))\n",
    "        matrix1.append(row)\n",
    "\n",
    "    # Input elements of the second matrix\n",
    "    print(\"Enter elements of the second matrix:\")\n",
    "    for i in range(rows2):\n",
    "        row = []\n",
    "        for j in range(cols2):\n",
    "            row.append(int(input(f\"Enter element at position ({i+1}, {j+1}): \")))\n",
    "        matrix2.append(row)\n",
    "\n",
    "    # Initialize the result matrix with zeros\n",
    "    result = [[0 for _ in range(cols2)] for _ in range(rows1)]\n",
    "\n",
    "    # Perform matrix multiplication\n",
    "    for i in range(rows1):\n",
    "        for j in range(cols2):\n",
    "            for k in range(cols1):\n",
    "                result[i][j] += matrix1[i][k] * matrix2[k][j]\n",
    "\n",
    "    # Display the result matrix\n",
    "    print(\"Matrix Multiplication Result:\")\n",
    "    for row in result:\n",
    "        print(row)\n"
   ]
  },
  {
   "cell_type": "code",
   "execution_count": 20,
   "id": "a0603607",
   "metadata": {},
   "outputs": [
    {
     "name": "stdout",
     "output_type": "stream",
     "text": [
      " | | \n",
      "-----\n",
      " | | \n",
      "-----\n",
      " | | \n",
      "Enter your move (1-9): 1\n",
      "X| | \n",
      "-----\n",
      " | | \n",
      "-----\n",
      " | | \n",
      "X| | \n",
      "-----\n",
      "O| | \n",
      "-----\n",
      " | | \n",
      "Enter your move (1-9): 5\n",
      "X| | \n",
      "-----\n",
      "O|X| \n",
      "-----\n",
      " | | \n",
      "X|O| \n",
      "-----\n",
      "O|X| \n",
      "-----\n",
      " | | \n",
      "Enter your move (1-9): 9\n",
      "X|O| \n",
      "-----\n",
      "O|X| \n",
      "-----\n",
      " | |X\n",
      "X wins!\n"
     ]
    }
   ],
   "source": [
    "#35.\n",
    "\n",
    "import random\n",
    "\n",
    "# Initialize the game board\n",
    "board = [\" \" for _ in range(9)]\n",
    "\n",
    "# Function to display the game board\n",
    "def display_board(board):\n",
    "    for i in range(0, 9, 3):\n",
    "        print(\"|\".join(board[i:i+3]))\n",
    "        if i < 6:\n",
    "            print(\"-----\")\n",
    "\n",
    "# Function to check for a win\n",
    "def check_win(board, player):\n",
    "    win_patterns = [(0, 1, 2), (3, 4, 5), (6, 7, 8), (0, 3, 6), (1, 4, 7), (2, 5, 8), (0, 4, 8), (2, 4, 6)]\n",
    "    for pattern in win_patterns:\n",
    "        if all(board[i] == player for i in pattern):\n",
    "            return True\n",
    "    return False\n",
    "\n",
    "# Function to make the computer's move\n",
    "def computer_move(board):\n",
    "    available_moves = [i for i, val in enumerate(board) if val == \" \"]\n",
    "    return random.choice(available_moves)\n",
    "\n",
    "# Main game loop\n",
    "current_player = \"X\"\n",
    "while True:\n",
    "    display_board(board)\n",
    "    if current_player == \"X\":\n",
    "        move = int(input(\"Enter your move (1-9): \")) - 1\n",
    "    else:\n",
    "        move = computer_move(board)\n",
    "    if board[move] == \" \":\n",
    "        board[move] = current_player\n",
    "        if check_win(board, current_player):\n",
    "            display_board(board)\n",
    "            print(f\"{current_player} wins!\")\n",
    "            break\n",
    "        if \" \" not in board:\n",
    "            display_board(board)\n",
    "            print(\"It's a tie!\")\n",
    "            break\n",
    "        current_player = \"O\" if current_player == \"X\" else \"X\"\n"
   ]
  },
  {
   "cell_type": "code",
   "execution_count": 21,
   "id": "27121ca9",
   "metadata": {},
   "outputs": [
    {
     "name": "stdout",
     "output_type": "stream",
     "text": [
      "Enter the number of Fibonacci terms to generate: 5\n",
      "Fibonacci Sequence:\n",
      "[0, 1, 1, 2, 3]\n"
     ]
    }
   ],
   "source": [
    "#36.\n",
    "\n",
    "# Get the number of terms\n",
    "n = int(input(\"Enter the number of Fibonacci terms to generate: \"))\n",
    "\n",
    "# Initialize the Fibonacci sequence\n",
    "fibonacci = [0, 1]\n",
    "\n",
    "# Generate the Fibonacci sequence iteratively\n",
    "for i in range(2, n):\n",
    "    next_term = fibonacci[i-1] + fibonacci[i-2]\n",
    "    fibonacci.append(next_term)\n",
    "\n",
    "# Display the Fibonacci sequence\n",
    "print(\"Fibonacci Sequence:\")\n",
    "print(fibonacci)\n"
   ]
  },
  {
   "cell_type": "code",
   "execution_count": 22,
   "id": "aaa505a5",
   "metadata": {},
   "outputs": [
    {
     "name": "stdout",
     "output_type": "stream",
     "text": [
      "Enter the value of n: 5\n",
      "The 5th Fibonacci term is: 5\n"
     ]
    }
   ],
   "source": [
    "#37.\n",
    "\n",
    "# Function to calculate the nth Fibonacci term using memoization\n",
    "def fibonacci(n, memo={}):\n",
    "    if n in memo:\n",
    "        return memo[n]\n",
    "    if n <= 2:\n",
    "        result = 1\n",
    "    else:\n",
    "        result = fibonacci(n - 1, memo) + fibonacci(n - 2, memo)\n",
    "    memo[n] = result\n",
    "    return result\n",
    "\n",
    "# Get the value of n\n",
    "n = int(input(\"Enter the value of n: \"))\n",
    "\n",
    "# Calculate and display the nth Fibonacci term\n",
    "result = fibonacci(n)\n",
    "print(f\"The {n}th Fibonacci term is: {result}\")\n",
    "\n"
   ]
  },
  {
   "cell_type": "code",
   "execution_count": 23,
   "id": "0fc398b7",
   "metadata": {},
   "outputs": [
    {
     "name": "stdout",
     "output_type": "stream",
     "text": [
      "Enter the year: 2020\n",
      "Enter the month (1-12): 9\n",
      "Calendar for September 2020:\n",
      "   September 2020\n",
      "Mo Tu We Th Fr Sa Su\n",
      "    1  2  3  4  5  6\n",
      " 7  8  9 10 11 12 13\n",
      "14 15 16 17 18 19 20\n",
      "21 22 23 24 25 26 27\n",
      "28 29 30\n",
      "\n"
     ]
    }
   ],
   "source": [
    "#38.\n",
    "\n",
    "import calendar\n",
    "\n",
    "# Get user input for month and year\n",
    "year = int(input(\"Enter the year: \"))\n",
    "month = int(input(\"Enter the month (1-12): \"))\n",
    "\n",
    "# Validate input\n",
    "if month < 1 or month > 12:\n",
    "    print(\"Invalid month input. Month should be between 1 and 12.\")\n",
    "else:\n",
    "    # Create a calendar object for the specified month and year\n",
    "    cal = calendar.month(year, month)\n",
    "\n",
    "    # Display the calendar\n",
    "    print(f\"Calendar for {calendar.month_name[month]} {year}:\")\n",
    "    print(cal)\n"
   ]
  },
  {
   "cell_type": "code",
   "execution_count": 27,
   "id": "1903fc9a",
   "metadata": {},
   "outputs": [
    {
     "name": "stdout",
     "output_type": "stream",
     "text": [
      "\n",
      "Your hand:\n",
      "Ten of Hearts\n",
      "Two of Diamonds\n",
      "Total value: 20\n",
      "Do you want to 'hit' or 'stand'? hit\n",
      "You busted! Computer wins.\n",
      "\n",
      "Computer's hand:\n",
      "Three of Clubs\n",
      "Five of Diamonds\n",
      "Total value: 20\n",
      "You busted! Computer wins.\n"
     ]
    }
   ],
   "source": [
    "import random\n",
    "\n",
    "# Initialize deck and player's and computer's hands\n",
    "suits = ['Hearts', 'Diamonds', 'Clubs', 'Spades']\n",
    "ranks = ['Two', 'Three', 'Four', 'Five', 'Six', 'Seven', 'Eight', 'Nine', 'Ten', 'Jack', 'Queen', 'King', 'Ace']\n",
    "\n",
    "deck = [{'rank': rank, 'suit': suit} for rank in ranks for suit in suits]\n",
    "random.shuffle(deck)\n",
    "\n",
    "player_hand = []\n",
    "computer_hand = []\n",
    "\n",
    "# Function to calculate the total value of a hand\n",
    "# Function to calculate the total value of a hand\n",
    "def calculate_hand_value(hand):\n",
    "    value = 0\n",
    "    num_aces = 0\n",
    "    for card in hand:\n",
    "        if card['rank'] in ['Jack', 'Queen', 'King']:\n",
    "            value += 10\n",
    "        elif card['rank'] == 'Ace':\n",
    "            value += 11\n",
    "            num_aces += 1\n",
    "        else:\n",
    "            try:\n",
    "                value += int(card['rank'])\n",
    "            except ValueError:\n",
    "                # Handle 'Ten' card\n",
    "                value += 10\n",
    "\n",
    "    while value > 21 and num_aces > 0:\n",
    "        value -= 10\n",
    "        num_aces -= 1\n",
    "\n",
    "    return value\n",
    "\n",
    "\n",
    "# Deal initial cards\n",
    "player_hand.append(deck.pop())\n",
    "computer_hand.append(deck.pop())\n",
    "player_hand.append(deck.pop())\n",
    "computer_hand.append(deck.pop())\n",
    "\n",
    "# Player's turn\n",
    "while True:\n",
    "    print(\"\\nYour hand:\")\n",
    "    for card in player_hand:\n",
    "        print(f\"{card['rank']} of {card['suit']}\")\n",
    "    print(f\"Total value: {calculate_hand_value(player_hand)}\")\n",
    "\n",
    "    action = input(\"Do you want to 'hit' or 'stand'? \").lower()\n",
    "    if action == 'hit':\n",
    "        player_hand.append(deck.pop())\n",
    "        if calculate_hand_value(player_hand) > 21:\n",
    "            print(\"You busted! Computer wins.\")\n",
    "            break\n",
    "    elif action == 'stand':\n",
    "        break\n",
    "\n",
    "# Computer's turn\n",
    "while calculate_hand_value(computer_hand) < 17:\n",
    "    computer_hand.append(deck.pop())\n",
    "\n",
    "print(\"\\nComputer's hand:\")\n",
    "for card in computer_hand:\n",
    "    print(f\"{card['rank']} of {card['suit']}\")\n",
    "print(f\"Total value: {calculate_hand_value(computer_hand)}\")\n",
    "\n",
    "# Determine the winner\n",
    "player_value = calculate_hand_value(player_hand)\n",
    "computer_value = calculate_hand_value(computer_hand)\n",
    "\n",
    "if player_value > 21:\n",
    "    print(\"You busted! Computer wins.\")\n",
    "elif computer_value > 21:\n",
    "    print(\"Computer busted! You win.\")\n",
    "elif player_value > computer_value:\n",
    "    print(\"You win!\")\n",
    "elif player_value < computer_value:\n",
    "    print(\"Computer wins.\")\n",
    "else:\n",
    "    print(\"It's a tie!\")\n"
   ]
  },
  {
   "cell_type": "code",
   "execution_count": 28,
   "id": "f7cff88c",
   "metadata": {},
   "outputs": [
    {
     "name": "stdout",
     "output_type": "stream",
     "text": [
      "Enter a number to find its prime factors: 25\n",
      "Prime factors of 25: [5, 5]\n"
     ]
    }
   ],
   "source": [
    "#40.\n",
    "\n",
    "# Function to generate prime factors of a number using trial division\n",
    "def prime_factors(n):\n",
    "    factors = []\n",
    "    divisor = 2\n",
    "\n",
    "    while n > 1:\n",
    "        while n % divisor == 0:\n",
    "            factors.append(divisor)\n",
    "            n //= divisor\n",
    "        divisor += 1\n",
    "\n",
    "    return factors\n",
    "\n",
    "# Get user input for the number\n",
    "num = int(input(\"Enter a number to find its prime factors: \"))\n",
    "\n",
    "# Calculate and display the prime factors\n",
    "factors = prime_factors(num)\n",
    "if len(factors) > 0:\n",
    "    print(f\"Prime factors of {num}: {factors}\")\n",
    "else:\n",
    "    print(f\"{num} is a prime number, and it has no prime factors other than 1 and itself.\")\n"
   ]
  },
  {
   "cell_type": "code",
   "execution_count": null,
   "id": "f19f5503",
   "metadata": {},
   "outputs": [],
   "source": []
  }
 ],
 "metadata": {
  "kernelspec": {
   "display_name": "Python 3 (ipykernel)",
   "language": "python",
   "name": "python3"
  },
  "language_info": {
   "codemirror_mode": {
    "name": "ipython",
    "version": 3
   },
   "file_extension": ".py",
   "mimetype": "text/x-python",
   "name": "python",
   "nbconvert_exporter": "python",
   "pygments_lexer": "ipython3",
   "version": "3.10.9"
  }
 },
 "nbformat": 4,
 "nbformat_minor": 5
}
